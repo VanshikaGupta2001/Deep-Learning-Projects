{
  "cells": [
    {
      "cell_type": "markdown",
      "metadata": {
        "id": "mdgE1kfWfsyg"
      },
      "source": [
        "##Code by - Vanshika Gupta\n"
      ]
    },
    {
      "cell_type": "markdown",
      "metadata": {
        "id": "sQTMRfxn0bOB"
      },
      "source": [
        "#  Metadata for Arrhythmia Classification Using CNN\n",
        "### **Dataset Overview**\n",
        "This project uses the **Heartbeat Dataset** from Kaggle, which contains **electrocardiogram (ECG) signals** categorized into different heartbeat types. The dataset is sourced from two main databases:  \n",
        "- **MIT-BIH Arrhythmia Database** → Multi-class classification (5 heartbeat types)  \n",
        "- **PTB Diagnostic ECG Database** → Binary classification (Normal vs. Abnormal heartbeats)  \n",
        "\n",
        "---\n",
        "\n",
        "### **Dataset Files**\n",
        "The dataset consists of four CSV files:  \n",
        "- mitbih_train.csv → Training data from the MIT-BIH Arrhythmia Database\n",
        "- mitbih_test.csv → Testing data from the MIT-BIH Arrhythmia Database\n",
        "- ptbdb_abnormal.csv → Abnormal heartbeats from the PTB Diagnostic ECG Database\n",
        "- ptbdb_normal.csv → Normal heartbeats from the PTB Diagnostic ECG Database\n",
        "\n",
        "Each row in these files represents a **single heartbeat**, with:  \n",
        "- **First 187 columns** → Raw ECG signal values (numerical)  \n",
        "- **Last column** → Label (heartbeat class)\n",
        "\n",
        "---\n",
        "\n",
        "### **Classification Types**\n",
        "#### **MIT-BIH (Multi-Class, 5 Labels)**\n",
        " - 0 - Normal beat\n",
        " - 1 - Premature Ventricular Contraction (PVC)\n",
        " - 2 - Supraventricular Premature Beat\n",
        " - 3 - Left Bundle Branch Block (LBBB)\n",
        " - 4 - Right Bundle Branch Block (RBBB)\n",
        "\n",
        "#### **PTBDB (Binary Classification)**\n",
        "- 0 - Normal heartbeat\n",
        "- 1 - Abnormal heartbeat (indicating disease)\n",
        "\n",
        "Since we are working here with Arrhythmia Classification, hence we will be using the first dataset i.e. MIT-BIH for our CNN classification.\n",
        "\n",
        "---\n",
        "\n",
        "### **Notebook Workflow**\n",
        "1. **Data Exploration & Visualization**\n",
        "2. **Preprocessing** (Scaling & Reshaping)  \n",
        "3. **Building a CNN Model**\n",
        "4. **Model Training & Evaluation**  \n"
      ]
    },
    {
      "cell_type": "code",
      "execution_count": 33,
      "metadata": {
        "id": "im4R3nikwcEX"
      },
      "outputs": [],
      "source": [
        "#Importing required libraries\n",
        "\n",
        "#Data manipulation, numerical operations,etc.\n",
        "import pandas as pd\n",
        "import numpy as np\n",
        "\n",
        "#Data visualization\n",
        "import matplotlib.pyplot as plt\n",
        "import seaborn as sns\n",
        "\n",
        "#Scikit-learn modules for data preprocessing\n",
        "from sklearn.model_selection import train_test_split\n",
        "from sklearn.preprocessing import StandardScaler, LabelEncoder\n",
        "from sklearn.utils import class_weight\n",
        "\n",
        "#TensorFlow and Keras for building the CNN model\n",
        "import tensorflow as tf\n",
        "from tensorflow.keras.utils import to_categorical\n",
        "from tensorflow.keras.models import Sequential\n",
        "from tensorflow.keras.layers import Conv1D, MaxPooling1D, Flatten, Dense, Dropout\n",
        "\n",
        "from imblearn.over_sampling import SMOTE"
      ]
    },
    {
      "cell_type": "code",
      "execution_count": 3,
      "metadata": {
        "colab": {
          "base_uri": "https://localhost:8080/"
        },
        "id": "HUvrrjgAxBK7",
        "outputId": "252427a6-a20a-424d-d5d2-2dbc687c55cc"
      },
      "outputs": [
        {
          "name": "stdout",
          "output_type": "stream",
          "text": [
            "Dataset URL: https://www.kaggle.com/datasets/shayanfazeli/heartbeat\n",
            "License(s): unknown\n",
            "Downloading heartbeat.zip to /content\n",
            " 87% 86.0M/98.8M [00:00<00:00, 245MB/s]\n",
            "100% 98.8M/98.8M [00:00<00:00, 228MB/s]\n",
            "Archive:  heartbeat.zip\n",
            "  inflating: mitbih_test.csv         \n",
            "  inflating: mitbih_train.csv        \n",
            "  inflating: ptbdb_abnormal.csv      \n",
            "  inflating: ptbdb_normal.csv        \n"
          ]
        }
      ],
      "source": [
        "#Importing the data set from kaggle\n",
        "!kaggle datasets download -d shayanfazeli/heartbeat\n",
        "!unzip heartbeat.zip"
      ]
    },
    {
      "cell_type": "code",
      "execution_count": 4,
      "metadata": {
        "id": "Cg7-Sqwmx3ak"
      },
      "outputs": [],
      "source": [
        "#Loading the dataset\n",
        "train_df = pd.read_csv('mitbih_train.csv', header=None)\n",
        "test_df = pd.read_csv('mitbih_test.csv', header=None)"
      ]
    },
    {
      "cell_type": "code",
      "execution_count": 5,
      "metadata": {
        "colab": {
          "base_uri": "https://localhost:8080/",
          "height": 255
        },
        "id": "8ACBoBrbyEY4",
        "outputId": "a4f099f9-e2d3-4f95-a2d8-addf7899dfc8"
      },
      "outputs": [
        {
          "data": {
            "application/vnd.google.colaboratory.intrinsic+json": {
              "type": "dataframe",
              "variable_name": "train_df"
            },
            "text/html": [
              "\n",
              "  <div id=\"df-4655d5ca-7d6b-4d7c-a436-177056dd9c7e\" class=\"colab-df-container\">\n",
              "    <div>\n",
              "<style scoped>\n",
              "    .dataframe tbody tr th:only-of-type {\n",
              "        vertical-align: middle;\n",
              "    }\n",
              "\n",
              "    .dataframe tbody tr th {\n",
              "        vertical-align: top;\n",
              "    }\n",
              "\n",
              "    .dataframe thead th {\n",
              "        text-align: right;\n",
              "    }\n",
              "</style>\n",
              "<table border=\"1\" class=\"dataframe\">\n",
              "  <thead>\n",
              "    <tr style=\"text-align: right;\">\n",
              "      <th></th>\n",
              "      <th>0</th>\n",
              "      <th>1</th>\n",
              "      <th>2</th>\n",
              "      <th>3</th>\n",
              "      <th>4</th>\n",
              "      <th>5</th>\n",
              "      <th>6</th>\n",
              "      <th>7</th>\n",
              "      <th>8</th>\n",
              "      <th>9</th>\n",
              "      <th>...</th>\n",
              "      <th>178</th>\n",
              "      <th>179</th>\n",
              "      <th>180</th>\n",
              "      <th>181</th>\n",
              "      <th>182</th>\n",
              "      <th>183</th>\n",
              "      <th>184</th>\n",
              "      <th>185</th>\n",
              "      <th>186</th>\n",
              "      <th>187</th>\n",
              "    </tr>\n",
              "  </thead>\n",
              "  <tbody>\n",
              "    <tr>\n",
              "      <th>0</th>\n",
              "      <td>0.977941</td>\n",
              "      <td>0.926471</td>\n",
              "      <td>0.681373</td>\n",
              "      <td>0.245098</td>\n",
              "      <td>0.154412</td>\n",
              "      <td>0.191176</td>\n",
              "      <td>0.151961</td>\n",
              "      <td>0.085784</td>\n",
              "      <td>0.058824</td>\n",
              "      <td>0.049020</td>\n",
              "      <td>...</td>\n",
              "      <td>0.0</td>\n",
              "      <td>0.0</td>\n",
              "      <td>0.0</td>\n",
              "      <td>0.0</td>\n",
              "      <td>0.0</td>\n",
              "      <td>0.0</td>\n",
              "      <td>0.0</td>\n",
              "      <td>0.0</td>\n",
              "      <td>0.0</td>\n",
              "      <td>0.0</td>\n",
              "    </tr>\n",
              "    <tr>\n",
              "      <th>1</th>\n",
              "      <td>0.960114</td>\n",
              "      <td>0.863248</td>\n",
              "      <td>0.461538</td>\n",
              "      <td>0.196581</td>\n",
              "      <td>0.094017</td>\n",
              "      <td>0.125356</td>\n",
              "      <td>0.099715</td>\n",
              "      <td>0.088319</td>\n",
              "      <td>0.074074</td>\n",
              "      <td>0.082621</td>\n",
              "      <td>...</td>\n",
              "      <td>0.0</td>\n",
              "      <td>0.0</td>\n",
              "      <td>0.0</td>\n",
              "      <td>0.0</td>\n",
              "      <td>0.0</td>\n",
              "      <td>0.0</td>\n",
              "      <td>0.0</td>\n",
              "      <td>0.0</td>\n",
              "      <td>0.0</td>\n",
              "      <td>0.0</td>\n",
              "    </tr>\n",
              "    <tr>\n",
              "      <th>2</th>\n",
              "      <td>1.000000</td>\n",
              "      <td>0.659459</td>\n",
              "      <td>0.186486</td>\n",
              "      <td>0.070270</td>\n",
              "      <td>0.070270</td>\n",
              "      <td>0.059459</td>\n",
              "      <td>0.056757</td>\n",
              "      <td>0.043243</td>\n",
              "      <td>0.054054</td>\n",
              "      <td>0.045946</td>\n",
              "      <td>...</td>\n",
              "      <td>0.0</td>\n",
              "      <td>0.0</td>\n",
              "      <td>0.0</td>\n",
              "      <td>0.0</td>\n",
              "      <td>0.0</td>\n",
              "      <td>0.0</td>\n",
              "      <td>0.0</td>\n",
              "      <td>0.0</td>\n",
              "      <td>0.0</td>\n",
              "      <td>0.0</td>\n",
              "    </tr>\n",
              "    <tr>\n",
              "      <th>3</th>\n",
              "      <td>0.925414</td>\n",
              "      <td>0.665746</td>\n",
              "      <td>0.541436</td>\n",
              "      <td>0.276243</td>\n",
              "      <td>0.196133</td>\n",
              "      <td>0.077348</td>\n",
              "      <td>0.071823</td>\n",
              "      <td>0.060773</td>\n",
              "      <td>0.066298</td>\n",
              "      <td>0.058011</td>\n",
              "      <td>...</td>\n",
              "      <td>0.0</td>\n",
              "      <td>0.0</td>\n",
              "      <td>0.0</td>\n",
              "      <td>0.0</td>\n",
              "      <td>0.0</td>\n",
              "      <td>0.0</td>\n",
              "      <td>0.0</td>\n",
              "      <td>0.0</td>\n",
              "      <td>0.0</td>\n",
              "      <td>0.0</td>\n",
              "    </tr>\n",
              "    <tr>\n",
              "      <th>4</th>\n",
              "      <td>0.967136</td>\n",
              "      <td>1.000000</td>\n",
              "      <td>0.830986</td>\n",
              "      <td>0.586854</td>\n",
              "      <td>0.356808</td>\n",
              "      <td>0.248826</td>\n",
              "      <td>0.145540</td>\n",
              "      <td>0.089202</td>\n",
              "      <td>0.117371</td>\n",
              "      <td>0.150235</td>\n",
              "      <td>...</td>\n",
              "      <td>0.0</td>\n",
              "      <td>0.0</td>\n",
              "      <td>0.0</td>\n",
              "      <td>0.0</td>\n",
              "      <td>0.0</td>\n",
              "      <td>0.0</td>\n",
              "      <td>0.0</td>\n",
              "      <td>0.0</td>\n",
              "      <td>0.0</td>\n",
              "      <td>0.0</td>\n",
              "    </tr>\n",
              "  </tbody>\n",
              "</table>\n",
              "<p>5 rows × 188 columns</p>\n",
              "</div>\n",
              "    <div class=\"colab-df-buttons\">\n",
              "\n",
              "  <div class=\"colab-df-container\">\n",
              "    <button class=\"colab-df-convert\" onclick=\"convertToInteractive('df-4655d5ca-7d6b-4d7c-a436-177056dd9c7e')\"\n",
              "            title=\"Convert this dataframe to an interactive table.\"\n",
              "            style=\"display:none;\">\n",
              "\n",
              "  <svg xmlns=\"http://www.w3.org/2000/svg\" height=\"24px\" viewBox=\"0 -960 960 960\">\n",
              "    <path d=\"M120-120v-720h720v720H120Zm60-500h600v-160H180v160Zm220 220h160v-160H400v160Zm0 220h160v-160H400v160ZM180-400h160v-160H180v160Zm440 0h160v-160H620v160ZM180-180h160v-160H180v160Zm440 0h160v-160H620v160Z\"/>\n",
              "  </svg>\n",
              "    </button>\n",
              "\n",
              "  <style>\n",
              "    .colab-df-container {\n",
              "      display:flex;\n",
              "      gap: 12px;\n",
              "    }\n",
              "\n",
              "    .colab-df-convert {\n",
              "      background-color: #E8F0FE;\n",
              "      border: none;\n",
              "      border-radius: 50%;\n",
              "      cursor: pointer;\n",
              "      display: none;\n",
              "      fill: #1967D2;\n",
              "      height: 32px;\n",
              "      padding: 0 0 0 0;\n",
              "      width: 32px;\n",
              "    }\n",
              "\n",
              "    .colab-df-convert:hover {\n",
              "      background-color: #E2EBFA;\n",
              "      box-shadow: 0px 1px 2px rgba(60, 64, 67, 0.3), 0px 1px 3px 1px rgba(60, 64, 67, 0.15);\n",
              "      fill: #174EA6;\n",
              "    }\n",
              "\n",
              "    .colab-df-buttons div {\n",
              "      margin-bottom: 4px;\n",
              "    }\n",
              "\n",
              "    [theme=dark] .colab-df-convert {\n",
              "      background-color: #3B4455;\n",
              "      fill: #D2E3FC;\n",
              "    }\n",
              "\n",
              "    [theme=dark] .colab-df-convert:hover {\n",
              "      background-color: #434B5C;\n",
              "      box-shadow: 0px 1px 3px 1px rgba(0, 0, 0, 0.15);\n",
              "      filter: drop-shadow(0px 1px 2px rgba(0, 0, 0, 0.3));\n",
              "      fill: #FFFFFF;\n",
              "    }\n",
              "  </style>\n",
              "\n",
              "    <script>\n",
              "      const buttonEl =\n",
              "        document.querySelector('#df-4655d5ca-7d6b-4d7c-a436-177056dd9c7e button.colab-df-convert');\n",
              "      buttonEl.style.display =\n",
              "        google.colab.kernel.accessAllowed ? 'block' : 'none';\n",
              "\n",
              "      async function convertToInteractive(key) {\n",
              "        const element = document.querySelector('#df-4655d5ca-7d6b-4d7c-a436-177056dd9c7e');\n",
              "        const dataTable =\n",
              "          await google.colab.kernel.invokeFunction('convertToInteractive',\n",
              "                                                    [key], {});\n",
              "        if (!dataTable) return;\n",
              "\n",
              "        const docLinkHtml = 'Like what you see? Visit the ' +\n",
              "          '<a target=\"_blank\" href=https://colab.research.google.com/notebooks/data_table.ipynb>data table notebook</a>'\n",
              "          + ' to learn more about interactive tables.';\n",
              "        element.innerHTML = '';\n",
              "        dataTable['output_type'] = 'display_data';\n",
              "        await google.colab.output.renderOutput(dataTable, element);\n",
              "        const docLink = document.createElement('div');\n",
              "        docLink.innerHTML = docLinkHtml;\n",
              "        element.appendChild(docLink);\n",
              "      }\n",
              "    </script>\n",
              "  </div>\n",
              "\n",
              "\n",
              "<div id=\"df-13a72bdf-98a2-402a-adea-3588c84eabfa\">\n",
              "  <button class=\"colab-df-quickchart\" onclick=\"quickchart('df-13a72bdf-98a2-402a-adea-3588c84eabfa')\"\n",
              "            title=\"Suggest charts\"\n",
              "            style=\"display:none;\">\n",
              "\n",
              "<svg xmlns=\"http://www.w3.org/2000/svg\" height=\"24px\"viewBox=\"0 0 24 24\"\n",
              "     width=\"24px\">\n",
              "    <g>\n",
              "        <path d=\"M19 3H5c-1.1 0-2 .9-2 2v14c0 1.1.9 2 2 2h14c1.1 0 2-.9 2-2V5c0-1.1-.9-2-2-2zM9 17H7v-7h2v7zm4 0h-2V7h2v10zm4 0h-2v-4h2v4z\"/>\n",
              "    </g>\n",
              "</svg>\n",
              "  </button>\n",
              "\n",
              "<style>\n",
              "  .colab-df-quickchart {\n",
              "      --bg-color: #E8F0FE;\n",
              "      --fill-color: #1967D2;\n",
              "      --hover-bg-color: #E2EBFA;\n",
              "      --hover-fill-color: #174EA6;\n",
              "      --disabled-fill-color: #AAA;\n",
              "      --disabled-bg-color: #DDD;\n",
              "  }\n",
              "\n",
              "  [theme=dark] .colab-df-quickchart {\n",
              "      --bg-color: #3B4455;\n",
              "      --fill-color: #D2E3FC;\n",
              "      --hover-bg-color: #434B5C;\n",
              "      --hover-fill-color: #FFFFFF;\n",
              "      --disabled-bg-color: #3B4455;\n",
              "      --disabled-fill-color: #666;\n",
              "  }\n",
              "\n",
              "  .colab-df-quickchart {\n",
              "    background-color: var(--bg-color);\n",
              "    border: none;\n",
              "    border-radius: 50%;\n",
              "    cursor: pointer;\n",
              "    display: none;\n",
              "    fill: var(--fill-color);\n",
              "    height: 32px;\n",
              "    padding: 0;\n",
              "    width: 32px;\n",
              "  }\n",
              "\n",
              "  .colab-df-quickchart:hover {\n",
              "    background-color: var(--hover-bg-color);\n",
              "    box-shadow: 0 1px 2px rgba(60, 64, 67, 0.3), 0 1px 3px 1px rgba(60, 64, 67, 0.15);\n",
              "    fill: var(--button-hover-fill-color);\n",
              "  }\n",
              "\n",
              "  .colab-df-quickchart-complete:disabled,\n",
              "  .colab-df-quickchart-complete:disabled:hover {\n",
              "    background-color: var(--disabled-bg-color);\n",
              "    fill: var(--disabled-fill-color);\n",
              "    box-shadow: none;\n",
              "  }\n",
              "\n",
              "  .colab-df-spinner {\n",
              "    border: 2px solid var(--fill-color);\n",
              "    border-color: transparent;\n",
              "    border-bottom-color: var(--fill-color);\n",
              "    animation:\n",
              "      spin 1s steps(1) infinite;\n",
              "  }\n",
              "\n",
              "  @keyframes spin {\n",
              "    0% {\n",
              "      border-color: transparent;\n",
              "      border-bottom-color: var(--fill-color);\n",
              "      border-left-color: var(--fill-color);\n",
              "    }\n",
              "    20% {\n",
              "      border-color: transparent;\n",
              "      border-left-color: var(--fill-color);\n",
              "      border-top-color: var(--fill-color);\n",
              "    }\n",
              "    30% {\n",
              "      border-color: transparent;\n",
              "      border-left-color: var(--fill-color);\n",
              "      border-top-color: var(--fill-color);\n",
              "      border-right-color: var(--fill-color);\n",
              "    }\n",
              "    40% {\n",
              "      border-color: transparent;\n",
              "      border-right-color: var(--fill-color);\n",
              "      border-top-color: var(--fill-color);\n",
              "    }\n",
              "    60% {\n",
              "      border-color: transparent;\n",
              "      border-right-color: var(--fill-color);\n",
              "    }\n",
              "    80% {\n",
              "      border-color: transparent;\n",
              "      border-right-color: var(--fill-color);\n",
              "      border-bottom-color: var(--fill-color);\n",
              "    }\n",
              "    90% {\n",
              "      border-color: transparent;\n",
              "      border-bottom-color: var(--fill-color);\n",
              "    }\n",
              "  }\n",
              "</style>\n",
              "\n",
              "  <script>\n",
              "    async function quickchart(key) {\n",
              "      const quickchartButtonEl =\n",
              "        document.querySelector('#' + key + ' button');\n",
              "      quickchartButtonEl.disabled = true;  // To prevent multiple clicks.\n",
              "      quickchartButtonEl.classList.add('colab-df-spinner');\n",
              "      try {\n",
              "        const charts = await google.colab.kernel.invokeFunction(\n",
              "            'suggestCharts', [key], {});\n",
              "      } catch (error) {\n",
              "        console.error('Error during call to suggestCharts:', error);\n",
              "      }\n",
              "      quickchartButtonEl.classList.remove('colab-df-spinner');\n",
              "      quickchartButtonEl.classList.add('colab-df-quickchart-complete');\n",
              "    }\n",
              "    (() => {\n",
              "      let quickchartButtonEl =\n",
              "        document.querySelector('#df-13a72bdf-98a2-402a-adea-3588c84eabfa button');\n",
              "      quickchartButtonEl.style.display =\n",
              "        google.colab.kernel.accessAllowed ? 'block' : 'none';\n",
              "    })();\n",
              "  </script>\n",
              "</div>\n",
              "\n",
              "    </div>\n",
              "  </div>\n"
            ],
            "text/plain": [
              "        0         1         2         3         4         5         6    \\\n",
              "0  0.977941  0.926471  0.681373  0.245098  0.154412  0.191176  0.151961   \n",
              "1  0.960114  0.863248  0.461538  0.196581  0.094017  0.125356  0.099715   \n",
              "2  1.000000  0.659459  0.186486  0.070270  0.070270  0.059459  0.056757   \n",
              "3  0.925414  0.665746  0.541436  0.276243  0.196133  0.077348  0.071823   \n",
              "4  0.967136  1.000000  0.830986  0.586854  0.356808  0.248826  0.145540   \n",
              "\n",
              "        7         8         9    ...  178  179  180  181  182  183  184  185  \\\n",
              "0  0.085784  0.058824  0.049020  ...  0.0  0.0  0.0  0.0  0.0  0.0  0.0  0.0   \n",
              "1  0.088319  0.074074  0.082621  ...  0.0  0.0  0.0  0.0  0.0  0.0  0.0  0.0   \n",
              "2  0.043243  0.054054  0.045946  ...  0.0  0.0  0.0  0.0  0.0  0.0  0.0  0.0   \n",
              "3  0.060773  0.066298  0.058011  ...  0.0  0.0  0.0  0.0  0.0  0.0  0.0  0.0   \n",
              "4  0.089202  0.117371  0.150235  ...  0.0  0.0  0.0  0.0  0.0  0.0  0.0  0.0   \n",
              "\n",
              "   186  187  \n",
              "0  0.0  0.0  \n",
              "1  0.0  0.0  \n",
              "2  0.0  0.0  \n",
              "3  0.0  0.0  \n",
              "4  0.0  0.0  \n",
              "\n",
              "[5 rows x 188 columns]"
            ]
          },
          "execution_count": 5,
          "metadata": {},
          "output_type": "execute_result"
        }
      ],
      "source": [
        "#Showing the dataframes\n",
        "train_df.head()"
      ]
    },
    {
      "cell_type": "code",
      "execution_count": 6,
      "metadata": {
        "colab": {
          "base_uri": "https://localhost:8080/",
          "height": 255
        },
        "id": "rzYYu7oJyNDb",
        "outputId": "849da992-1be4-49b4-da5f-b753006cbf0d"
      },
      "outputs": [
        {
          "data": {
            "application/vnd.google.colaboratory.intrinsic+json": {
              "type": "dataframe",
              "variable_name": "test_df"
            },
            "text/html": [
              "\n",
              "  <div id=\"df-162fd984-e683-462b-b31b-b6ecd42af15f\" class=\"colab-df-container\">\n",
              "    <div>\n",
              "<style scoped>\n",
              "    .dataframe tbody tr th:only-of-type {\n",
              "        vertical-align: middle;\n",
              "    }\n",
              "\n",
              "    .dataframe tbody tr th {\n",
              "        vertical-align: top;\n",
              "    }\n",
              "\n",
              "    .dataframe thead th {\n",
              "        text-align: right;\n",
              "    }\n",
              "</style>\n",
              "<table border=\"1\" class=\"dataframe\">\n",
              "  <thead>\n",
              "    <tr style=\"text-align: right;\">\n",
              "      <th></th>\n",
              "      <th>0</th>\n",
              "      <th>1</th>\n",
              "      <th>2</th>\n",
              "      <th>3</th>\n",
              "      <th>4</th>\n",
              "      <th>5</th>\n",
              "      <th>6</th>\n",
              "      <th>7</th>\n",
              "      <th>8</th>\n",
              "      <th>9</th>\n",
              "      <th>...</th>\n",
              "      <th>178</th>\n",
              "      <th>179</th>\n",
              "      <th>180</th>\n",
              "      <th>181</th>\n",
              "      <th>182</th>\n",
              "      <th>183</th>\n",
              "      <th>184</th>\n",
              "      <th>185</th>\n",
              "      <th>186</th>\n",
              "      <th>187</th>\n",
              "    </tr>\n",
              "  </thead>\n",
              "  <tbody>\n",
              "    <tr>\n",
              "      <th>0</th>\n",
              "      <td>1.000000</td>\n",
              "      <td>0.758264</td>\n",
              "      <td>0.111570</td>\n",
              "      <td>0.000000</td>\n",
              "      <td>0.080579</td>\n",
              "      <td>0.078512</td>\n",
              "      <td>0.066116</td>\n",
              "      <td>0.049587</td>\n",
              "      <td>0.047521</td>\n",
              "      <td>0.035124</td>\n",
              "      <td>...</td>\n",
              "      <td>0.0</td>\n",
              "      <td>0.0</td>\n",
              "      <td>0.0</td>\n",
              "      <td>0.0</td>\n",
              "      <td>0.0</td>\n",
              "      <td>0.0</td>\n",
              "      <td>0.0</td>\n",
              "      <td>0.0</td>\n",
              "      <td>0.0</td>\n",
              "      <td>0.0</td>\n",
              "    </tr>\n",
              "    <tr>\n",
              "      <th>1</th>\n",
              "      <td>0.908425</td>\n",
              "      <td>0.783883</td>\n",
              "      <td>0.531136</td>\n",
              "      <td>0.362637</td>\n",
              "      <td>0.366300</td>\n",
              "      <td>0.344322</td>\n",
              "      <td>0.333333</td>\n",
              "      <td>0.307692</td>\n",
              "      <td>0.296703</td>\n",
              "      <td>0.300366</td>\n",
              "      <td>...</td>\n",
              "      <td>0.0</td>\n",
              "      <td>0.0</td>\n",
              "      <td>0.0</td>\n",
              "      <td>0.0</td>\n",
              "      <td>0.0</td>\n",
              "      <td>0.0</td>\n",
              "      <td>0.0</td>\n",
              "      <td>0.0</td>\n",
              "      <td>0.0</td>\n",
              "      <td>0.0</td>\n",
              "    </tr>\n",
              "    <tr>\n",
              "      <th>2</th>\n",
              "      <td>0.730088</td>\n",
              "      <td>0.212389</td>\n",
              "      <td>0.000000</td>\n",
              "      <td>0.119469</td>\n",
              "      <td>0.101770</td>\n",
              "      <td>0.101770</td>\n",
              "      <td>0.110619</td>\n",
              "      <td>0.123894</td>\n",
              "      <td>0.115044</td>\n",
              "      <td>0.132743</td>\n",
              "      <td>...</td>\n",
              "      <td>0.0</td>\n",
              "      <td>0.0</td>\n",
              "      <td>0.0</td>\n",
              "      <td>0.0</td>\n",
              "      <td>0.0</td>\n",
              "      <td>0.0</td>\n",
              "      <td>0.0</td>\n",
              "      <td>0.0</td>\n",
              "      <td>0.0</td>\n",
              "      <td>0.0</td>\n",
              "    </tr>\n",
              "    <tr>\n",
              "      <th>3</th>\n",
              "      <td>1.000000</td>\n",
              "      <td>0.910417</td>\n",
              "      <td>0.681250</td>\n",
              "      <td>0.472917</td>\n",
              "      <td>0.229167</td>\n",
              "      <td>0.068750</td>\n",
              "      <td>0.000000</td>\n",
              "      <td>0.004167</td>\n",
              "      <td>0.014583</td>\n",
              "      <td>0.054167</td>\n",
              "      <td>...</td>\n",
              "      <td>0.0</td>\n",
              "      <td>0.0</td>\n",
              "      <td>0.0</td>\n",
              "      <td>0.0</td>\n",
              "      <td>0.0</td>\n",
              "      <td>0.0</td>\n",
              "      <td>0.0</td>\n",
              "      <td>0.0</td>\n",
              "      <td>0.0</td>\n",
              "      <td>0.0</td>\n",
              "    </tr>\n",
              "    <tr>\n",
              "      <th>4</th>\n",
              "      <td>0.570470</td>\n",
              "      <td>0.399329</td>\n",
              "      <td>0.238255</td>\n",
              "      <td>0.147651</td>\n",
              "      <td>0.000000</td>\n",
              "      <td>0.003356</td>\n",
              "      <td>0.040268</td>\n",
              "      <td>0.080537</td>\n",
              "      <td>0.070470</td>\n",
              "      <td>0.090604</td>\n",
              "      <td>...</td>\n",
              "      <td>0.0</td>\n",
              "      <td>0.0</td>\n",
              "      <td>0.0</td>\n",
              "      <td>0.0</td>\n",
              "      <td>0.0</td>\n",
              "      <td>0.0</td>\n",
              "      <td>0.0</td>\n",
              "      <td>0.0</td>\n",
              "      <td>0.0</td>\n",
              "      <td>0.0</td>\n",
              "    </tr>\n",
              "  </tbody>\n",
              "</table>\n",
              "<p>5 rows × 188 columns</p>\n",
              "</div>\n",
              "    <div class=\"colab-df-buttons\">\n",
              "\n",
              "  <div class=\"colab-df-container\">\n",
              "    <button class=\"colab-df-convert\" onclick=\"convertToInteractive('df-162fd984-e683-462b-b31b-b6ecd42af15f')\"\n",
              "            title=\"Convert this dataframe to an interactive table.\"\n",
              "            style=\"display:none;\">\n",
              "\n",
              "  <svg xmlns=\"http://www.w3.org/2000/svg\" height=\"24px\" viewBox=\"0 -960 960 960\">\n",
              "    <path d=\"M120-120v-720h720v720H120Zm60-500h600v-160H180v160Zm220 220h160v-160H400v160Zm0 220h160v-160H400v160ZM180-400h160v-160H180v160Zm440 0h160v-160H620v160ZM180-180h160v-160H180v160Zm440 0h160v-160H620v160Z\"/>\n",
              "  </svg>\n",
              "    </button>\n",
              "\n",
              "  <style>\n",
              "    .colab-df-container {\n",
              "      display:flex;\n",
              "      gap: 12px;\n",
              "    }\n",
              "\n",
              "    .colab-df-convert {\n",
              "      background-color: #E8F0FE;\n",
              "      border: none;\n",
              "      border-radius: 50%;\n",
              "      cursor: pointer;\n",
              "      display: none;\n",
              "      fill: #1967D2;\n",
              "      height: 32px;\n",
              "      padding: 0 0 0 0;\n",
              "      width: 32px;\n",
              "    }\n",
              "\n",
              "    .colab-df-convert:hover {\n",
              "      background-color: #E2EBFA;\n",
              "      box-shadow: 0px 1px 2px rgba(60, 64, 67, 0.3), 0px 1px 3px 1px rgba(60, 64, 67, 0.15);\n",
              "      fill: #174EA6;\n",
              "    }\n",
              "\n",
              "    .colab-df-buttons div {\n",
              "      margin-bottom: 4px;\n",
              "    }\n",
              "\n",
              "    [theme=dark] .colab-df-convert {\n",
              "      background-color: #3B4455;\n",
              "      fill: #D2E3FC;\n",
              "    }\n",
              "\n",
              "    [theme=dark] .colab-df-convert:hover {\n",
              "      background-color: #434B5C;\n",
              "      box-shadow: 0px 1px 3px 1px rgba(0, 0, 0, 0.15);\n",
              "      filter: drop-shadow(0px 1px 2px rgba(0, 0, 0, 0.3));\n",
              "      fill: #FFFFFF;\n",
              "    }\n",
              "  </style>\n",
              "\n",
              "    <script>\n",
              "      const buttonEl =\n",
              "        document.querySelector('#df-162fd984-e683-462b-b31b-b6ecd42af15f button.colab-df-convert');\n",
              "      buttonEl.style.display =\n",
              "        google.colab.kernel.accessAllowed ? 'block' : 'none';\n",
              "\n",
              "      async function convertToInteractive(key) {\n",
              "        const element = document.querySelector('#df-162fd984-e683-462b-b31b-b6ecd42af15f');\n",
              "        const dataTable =\n",
              "          await google.colab.kernel.invokeFunction('convertToInteractive',\n",
              "                                                    [key], {});\n",
              "        if (!dataTable) return;\n",
              "\n",
              "        const docLinkHtml = 'Like what you see? Visit the ' +\n",
              "          '<a target=\"_blank\" href=https://colab.research.google.com/notebooks/data_table.ipynb>data table notebook</a>'\n",
              "          + ' to learn more about interactive tables.';\n",
              "        element.innerHTML = '';\n",
              "        dataTable['output_type'] = 'display_data';\n",
              "        await google.colab.output.renderOutput(dataTable, element);\n",
              "        const docLink = document.createElement('div');\n",
              "        docLink.innerHTML = docLinkHtml;\n",
              "        element.appendChild(docLink);\n",
              "      }\n",
              "    </script>\n",
              "  </div>\n",
              "\n",
              "\n",
              "<div id=\"df-816e09ec-038e-4a5a-8a49-be6204c86fd6\">\n",
              "  <button class=\"colab-df-quickchart\" onclick=\"quickchart('df-816e09ec-038e-4a5a-8a49-be6204c86fd6')\"\n",
              "            title=\"Suggest charts\"\n",
              "            style=\"display:none;\">\n",
              "\n",
              "<svg xmlns=\"http://www.w3.org/2000/svg\" height=\"24px\"viewBox=\"0 0 24 24\"\n",
              "     width=\"24px\">\n",
              "    <g>\n",
              "        <path d=\"M19 3H5c-1.1 0-2 .9-2 2v14c0 1.1.9 2 2 2h14c1.1 0 2-.9 2-2V5c0-1.1-.9-2-2-2zM9 17H7v-7h2v7zm4 0h-2V7h2v10zm4 0h-2v-4h2v4z\"/>\n",
              "    </g>\n",
              "</svg>\n",
              "  </button>\n",
              "\n",
              "<style>\n",
              "  .colab-df-quickchart {\n",
              "      --bg-color: #E8F0FE;\n",
              "      --fill-color: #1967D2;\n",
              "      --hover-bg-color: #E2EBFA;\n",
              "      --hover-fill-color: #174EA6;\n",
              "      --disabled-fill-color: #AAA;\n",
              "      --disabled-bg-color: #DDD;\n",
              "  }\n",
              "\n",
              "  [theme=dark] .colab-df-quickchart {\n",
              "      --bg-color: #3B4455;\n",
              "      --fill-color: #D2E3FC;\n",
              "      --hover-bg-color: #434B5C;\n",
              "      --hover-fill-color: #FFFFFF;\n",
              "      --disabled-bg-color: #3B4455;\n",
              "      --disabled-fill-color: #666;\n",
              "  }\n",
              "\n",
              "  .colab-df-quickchart {\n",
              "    background-color: var(--bg-color);\n",
              "    border: none;\n",
              "    border-radius: 50%;\n",
              "    cursor: pointer;\n",
              "    display: none;\n",
              "    fill: var(--fill-color);\n",
              "    height: 32px;\n",
              "    padding: 0;\n",
              "    width: 32px;\n",
              "  }\n",
              "\n",
              "  .colab-df-quickchart:hover {\n",
              "    background-color: var(--hover-bg-color);\n",
              "    box-shadow: 0 1px 2px rgba(60, 64, 67, 0.3), 0 1px 3px 1px rgba(60, 64, 67, 0.15);\n",
              "    fill: var(--button-hover-fill-color);\n",
              "  }\n",
              "\n",
              "  .colab-df-quickchart-complete:disabled,\n",
              "  .colab-df-quickchart-complete:disabled:hover {\n",
              "    background-color: var(--disabled-bg-color);\n",
              "    fill: var(--disabled-fill-color);\n",
              "    box-shadow: none;\n",
              "  }\n",
              "\n",
              "  .colab-df-spinner {\n",
              "    border: 2px solid var(--fill-color);\n",
              "    border-color: transparent;\n",
              "    border-bottom-color: var(--fill-color);\n",
              "    animation:\n",
              "      spin 1s steps(1) infinite;\n",
              "  }\n",
              "\n",
              "  @keyframes spin {\n",
              "    0% {\n",
              "      border-color: transparent;\n",
              "      border-bottom-color: var(--fill-color);\n",
              "      border-left-color: var(--fill-color);\n",
              "    }\n",
              "    20% {\n",
              "      border-color: transparent;\n",
              "      border-left-color: var(--fill-color);\n",
              "      border-top-color: var(--fill-color);\n",
              "    }\n",
              "    30% {\n",
              "      border-color: transparent;\n",
              "      border-left-color: var(--fill-color);\n",
              "      border-top-color: var(--fill-color);\n",
              "      border-right-color: var(--fill-color);\n",
              "    }\n",
              "    40% {\n",
              "      border-color: transparent;\n",
              "      border-right-color: var(--fill-color);\n",
              "      border-top-color: var(--fill-color);\n",
              "    }\n",
              "    60% {\n",
              "      border-color: transparent;\n",
              "      border-right-color: var(--fill-color);\n",
              "    }\n",
              "    80% {\n",
              "      border-color: transparent;\n",
              "      border-right-color: var(--fill-color);\n",
              "      border-bottom-color: var(--fill-color);\n",
              "    }\n",
              "    90% {\n",
              "      border-color: transparent;\n",
              "      border-bottom-color: var(--fill-color);\n",
              "    }\n",
              "  }\n",
              "</style>\n",
              "\n",
              "  <script>\n",
              "    async function quickchart(key) {\n",
              "      const quickchartButtonEl =\n",
              "        document.querySelector('#' + key + ' button');\n",
              "      quickchartButtonEl.disabled = true;  // To prevent multiple clicks.\n",
              "      quickchartButtonEl.classList.add('colab-df-spinner');\n",
              "      try {\n",
              "        const charts = await google.colab.kernel.invokeFunction(\n",
              "            'suggestCharts', [key], {});\n",
              "      } catch (error) {\n",
              "        console.error('Error during call to suggestCharts:', error);\n",
              "      }\n",
              "      quickchartButtonEl.classList.remove('colab-df-spinner');\n",
              "      quickchartButtonEl.classList.add('colab-df-quickchart-complete');\n",
              "    }\n",
              "    (() => {\n",
              "      let quickchartButtonEl =\n",
              "        document.querySelector('#df-816e09ec-038e-4a5a-8a49-be6204c86fd6 button');\n",
              "      quickchartButtonEl.style.display =\n",
              "        google.colab.kernel.accessAllowed ? 'block' : 'none';\n",
              "    })();\n",
              "  </script>\n",
              "</div>\n",
              "\n",
              "    </div>\n",
              "  </div>\n"
            ],
            "text/plain": [
              "        0         1         2         3         4         5         6    \\\n",
              "0  1.000000  0.758264  0.111570  0.000000  0.080579  0.078512  0.066116   \n",
              "1  0.908425  0.783883  0.531136  0.362637  0.366300  0.344322  0.333333   \n",
              "2  0.730088  0.212389  0.000000  0.119469  0.101770  0.101770  0.110619   \n",
              "3  1.000000  0.910417  0.681250  0.472917  0.229167  0.068750  0.000000   \n",
              "4  0.570470  0.399329  0.238255  0.147651  0.000000  0.003356  0.040268   \n",
              "\n",
              "        7         8         9    ...  178  179  180  181  182  183  184  185  \\\n",
              "0  0.049587  0.047521  0.035124  ...  0.0  0.0  0.0  0.0  0.0  0.0  0.0  0.0   \n",
              "1  0.307692  0.296703  0.300366  ...  0.0  0.0  0.0  0.0  0.0  0.0  0.0  0.0   \n",
              "2  0.123894  0.115044  0.132743  ...  0.0  0.0  0.0  0.0  0.0  0.0  0.0  0.0   \n",
              "3  0.004167  0.014583  0.054167  ...  0.0  0.0  0.0  0.0  0.0  0.0  0.0  0.0   \n",
              "4  0.080537  0.070470  0.090604  ...  0.0  0.0  0.0  0.0  0.0  0.0  0.0  0.0   \n",
              "\n",
              "   186  187  \n",
              "0  0.0  0.0  \n",
              "1  0.0  0.0  \n",
              "2  0.0  0.0  \n",
              "3  0.0  0.0  \n",
              "4  0.0  0.0  \n",
              "\n",
              "[5 rows x 188 columns]"
            ]
          },
          "execution_count": 6,
          "metadata": {},
          "output_type": "execute_result"
        }
      ],
      "source": [
        "test_df.head()"
      ]
    },
    {
      "cell_type": "code",
      "execution_count": 7,
      "metadata": {
        "id": "z6_28q4jyPJV"
      },
      "outputs": [],
      "source": [
        "#Splitting the data into features and labels\n",
        "\n",
        "#Training data\n",
        "X_train = train_df.iloc[:, :-1].values\n",
        "y_train = train_df.iloc[:, -1].values\n",
        "\n",
        "#Testing data\n",
        "X_test = test_df.iloc[:, :-1].values\n",
        "y_test = test_df.iloc[:, -1].values"
      ]
    },
    {
      "cell_type": "code",
      "execution_count": 8,
      "metadata": {
        "colab": {
          "base_uri": "https://localhost:8080/"
        },
        "id": "j6LE4jbOzaNV",
        "outputId": "bc4ee61e-912d-4e2f-f437-c00ce645f3e5"
      },
      "outputs": [
        {
          "name": "stdout",
          "output_type": "stream",
          "text": [
            "Training data shape: (87554, 187), Labels shape: (87554,)\n",
            "Testing data shape: (21892, 187), Labels shape: (21892,)\n"
          ]
        }
      ],
      "source": [
        "#Checking the dataset shape\n",
        "\n",
        "print(f\"Training data shape: {X_train.shape}, Labels shape: {y_train.shape}\")\n",
        "print(f\"Testing data shape: {X_test.shape}, Labels shape: {y_test.shape}\")"
      ]
    },
    {
      "cell_type": "markdown",
      "metadata": {
        "id": "KU566VlC2TwF"
      },
      "source": [
        "The training dataset contains 87,554 samples, where:\n",
        "\n",
        "- Each sample has 187 features (ECG signal values).\n",
        "- There are 87,554 corresponding labels (1 per sample).\n",
        "\n",
        "The testing dataset contains 21,892 samples, where:\n",
        "\n",
        "- Each sample has 187 features (ECG signal values).\n",
        "- There are 21,892 corresponding labels (1 per sample)."
      ]
    },
    {
      "cell_type": "code",
      "execution_count": 13,
      "metadata": {
        "colab": {
          "base_uri": "https://localhost:8080/",
          "height": 517
        },
        "id": "sJ9K37a7zibD",
        "outputId": "0510dc23-d623-4f8c-ade5-96e5b41cad25"
      },
      "outputs": [
        {
          "name": "stderr",
          "output_type": "stream",
          "text": [
            "<ipython-input-13-7bf9d706d2f7>:4: FutureWarning: \n",
            "\n",
            "Passing `palette` without assigning `hue` is deprecated and will be removed in v0.14.0. Assign the `x` variable to `hue` and set `legend=False` for the same effect.\n",
            "\n",
            "  ax = sns.countplot(x=y_train, palette=\"viridis\")\n"
          ]
        },
        {
          "data": {
            "image/png": "[encoded data removed]",
            "text/plain": [
              "<Figure size 600x400 with 1 Axes>"
            ]
          },
          "metadata": {},
          "output_type": "display_data"
        }
      ],
      "source": [
        "# Visualize class distribution in the training dataset\n",
        "\n",
        "plt.figure(figsize=(6, 4))\n",
        "ax = sns.countplot(x=y_train, palette=\"viridis\")\n",
        "for p in ax.patches:\n",
        "    ax.annotate(f'{p.get_height()}',\n",
        "                (p.get_x() + p.get_width() / 2, p.get_height()),\n",
        "                ha='center', va='bottom', fontsize=12, fontweight='bold')\n",
        "\n",
        "plt.title(\"Class Distribution in Training Data\")\n",
        "plt.xlabel(\"Arrhythmia Class\")\n",
        "plt.ylabel(\"Count\")\n",
        "plt.show()\n"
      ]
    },
    {
      "cell_type": "markdown",
      "metadata": {
        "id": "UraT2e1E3Zns"
      },
      "source": [
        "## Inferences :\n",
        "The class distribution in the training dataset is highly imbalanced\n",
        "\n",
        "- Class 0 is dominant – The vast majority of the data belongs to class 0 (normal beats) with 72,471 samples, which significantly outweighs the other classes.\n",
        "- Minority classes are underrepresented:\n",
        " -  Class 1: 2,223 samples\n",
        " - Class 2: 5,788 samples\n",
        " - Class 3: 641 samples (extremely low)\n",
        " - Class 4: 6,431 samples\n",
        "\n",
        "- Potential issues with model training – Due to the severe imbalance, the model might become biased towards predicting class 0 more often. It may struggle to learn meaningful patterns for the minority classes."
      ]
    },
    {
      "cell_type": "code",
      "execution_count": 15,
      "metadata": {
        "colab": {
          "base_uri": "https://localhost:8080/",
          "height": 627
        },
        "id": "9fg3c7rSzmpk",
        "outputId": "c3fa5c5e-a6b3-4d47-e41a-503831bc798c"
      },
      "outputs": [
        {
          "data": {
            "image/png": "[encoded data removed]",
            "text/plain": [
              "<Figure size 1200x600 with 5 Axes>"
            ]
          },
          "metadata": {},
          "output_type": "display_data"
        }
      ],
      "source": [
        "plt.figure(figsize=(12, 6))\n",
        "\n",
        "for i, class_label in enumerate(np.unique(y_train)[:5]):  # Using np.unique instead of .unique()\n",
        "    sample_signal = X_train[y_train == class_label][0]  # Accessing first example of each class\n",
        "    plt.subplot(2, 3, i + 1)\n",
        "    plt.plot(sample_signal)\n",
        "    plt.title(f\"Class {class_label}\")\n",
        "    plt.xlabel(\"Time Steps\")\n",
        "    plt.ylabel(\"Amplitude\")\n",
        "\n",
        "plt.tight_layout()\n",
        "plt.show()\n"
      ]
    },
    {
      "cell_type": "markdown",
      "metadata": {
        "id": "Z8hcQzf04Y9f"
      },
      "source": [
        "##Inferences:\n",
        "From the ECG plots corresponding to five different classes, we can infer the following:\n",
        "\n",
        "- Variability in Morphology: The signals show distinct waveforms across different classes, indicating the presence of meaningful differences in ECG patterns. These differences could be associated with various physiological or pathological conditions.\n",
        "\n",
        "- Common Features: Most signals exhibit a sharp peak (likely the R-wave in an ECG) followed by a decline. However, the amplitude, waveform smoothness, and additional fluctuations vary between classes.\n",
        "\n",
        "- Baseline Drift or Preprocessing Effects: Some signals appear to have a segment of near-zero amplitude, possibly due to signal truncation, data normalization, or preprocessing artifacts.\n",
        "\n",
        "- Potential Classification Task: The presence of distinguishable patterns among classes suggests that a machine learning or deep learning model could effectively learn to differentiate between them."
      ]
    },
    {
      "cell_type": "markdown",
      "metadata": {
        "id": "PhzULiID6V5L"
      },
      "source": [
        "##Model 1"
      ]
    },
    {
      "cell_type": "code",
      "execution_count": 17,
      "metadata": {
        "id": "B4RRARbwylKZ"
      },
      "outputs": [],
      "source": [
        "# Model 1: CNN without class balancing\n",
        "\n",
        "#Normalizing the data\n",
        "scaler1 = StandardScaler()\n",
        "X_train1 = scaler1.fit_transform(X_train)\n",
        "X_test1 = scaler1.transform(X_test)\n",
        "\n",
        "#Reshaping the data to fit the CNN input\n",
        "X_train1 = X_train1.reshape(X_train1.shape[0], X_train1.shape[1], 1)\n",
        "X_test1 = X_test1.reshape(X_test1.shape[0], X_test1.shape[1], 1)\n"
      ]
    },
    {
      "cell_type": "code",
      "execution_count": 18,
      "metadata": {
        "colab": {
          "base_uri": "https://localhost:8080/"
        },
        "id": "WuF1HlTC9FZk",
        "outputId": "d00b3bf3-7810-41dc-c585-344cd341b050"
      },
      "outputs": [
        {
          "name": "stderr",
          "output_type": "stream",
          "text": [
            "/usr/local/lib/python3.11/dist-packages/keras/src/layers/convolutional/base_conv.py:107: UserWarning: Do not pass an `input_shape`/`input_dim` argument to a layer. When using Sequential models, prefer using an `Input(shape)` object as the first layer in the model instead.\n",
            "  super().__init__(activity_regularizer=activity_regularizer, **kwargs)\n"
          ]
        }
      ],
      "source": [
        "#Defining CNN architecture\n",
        "model1 = Sequential([\n",
        "    Conv1D(64, kernel_size=3, activation='relu', input_shape=(X_train1.shape[1], 1)), #First Convolutional Layer\n",
        "    MaxPooling1D(pool_size=2),\n",
        "    Dropout(0.5),\n",
        "    Conv1D(128, kernel_size=3, activation='relu'),  # Second Convolutional Layer\n",
        "    MaxPooling1D(pool_size=2),\n",
        "    Dropout(0.5),\n",
        "    Flatten(),  #Flattening the output\n",
        "    Dense(128, activation='relu'),  #Fully Connected Layer\n",
        "    Dropout(0.5),\n",
        "    Dense(5, activation='softmax')   #Output Layer\n",
        "])"
      ]
    },
    {
      "cell_type": "code",
      "execution_count": 19,
      "metadata": {
        "id": "S-AJO7ZC9lqR"
      },
      "outputs": [],
      "source": [
        "#Compile the model with Adam optimizer and sparse categorical cross-entropy loss\n",
        "model1.compile(optimizer='adam', loss='sparse_categorical_crossentropy', metrics=['accuracy'])"
      ]
    },
    {
      "cell_type": "code",
      "execution_count": 20,
      "metadata": {
        "colab": {
          "base_uri": "https://localhost:8080/"
        },
        "id": "KcrdcD8x9m7C",
        "outputId": "abe678b0-d011-42ac-cbf0-374d5a230757"
      },
      "outputs": [
        {
          "name": "stdout",
          "output_type": "stream",
          "text": [
            "Epoch 1/20\n",
            "\u001b[1m1369/1369\u001b[0m \u001b[32m━━━━━━━━━━━━━━━━━━━━\u001b[0m\u001b[37m\u001b[0m \u001b[1m52s\u001b[0m 37ms/step - accuracy: 0.8997 - loss: 0.3539 - val_accuracy: 0.9591 - val_loss: 0.1513\n",
            "Epoch 2/20\n",
            "\u001b[1m1369/1369\u001b[0m \u001b[32m━━━━━━━━━━━━━━━━━━━━\u001b[0m\u001b[37m\u001b[0m \u001b[1m82s\u001b[0m 37ms/step - accuracy: 0.9498 - loss: 0.1820 - val_accuracy: 0.9678 - val_loss: 0.1245\n",
            "Epoch 3/20\n",
            "\u001b[1m1369/1369\u001b[0m \u001b[32m━━━━━━━━━━━━━━━━━━━━\u001b[0m\u001b[37m\u001b[0m \u001b[1m80s\u001b[0m 36ms/step - accuracy: 0.9573 - loss: 0.1579 - val_accuracy: 0.9699 - val_loss: 0.1125\n",
            "Epoch 4/20\n",
            "\u001b[1m1369/1369\u001b[0m \u001b[32m━━━━━━━━━━━━━━━━━━━━\u001b[0m\u001b[37m\u001b[0m \u001b[1m84s\u001b[0m 37ms/step - accuracy: 0.9614 - loss: 0.1398 - val_accuracy: 0.9724 - val_loss: 0.1008\n",
            "Epoch 5/20\n",
            "\u001b[1m1369/1369\u001b[0m \u001b[32m━━━━━━━━━━━━━━━━━━━━\u001b[0m\u001b[37m\u001b[0m \u001b[1m51s\u001b[0m 37ms/step - accuracy: 0.9646 - loss: 0.1274 - val_accuracy: 0.9724 - val_loss: 0.0977\n",
            "Epoch 6/20\n",
            "\u001b[1m1369/1369\u001b[0m \u001b[32m━━━━━━━━━━━━━━━━━━━━\u001b[0m\u001b[37m\u001b[0m \u001b[1m80s\u001b[0m 36ms/step - accuracy: 0.9673 - loss: 0.1162 - val_accuracy: 0.9755 - val_loss: 0.0896\n",
            "Epoch 7/20\n",
            "\u001b[1m1369/1369\u001b[0m \u001b[32m━━━━━━━━━━━━━━━━━━━━\u001b[0m\u001b[37m\u001b[0m \u001b[1m84s\u001b[0m 38ms/step - accuracy: 0.9686 - loss: 0.1119 - val_accuracy: 0.9749 - val_loss: 0.0894\n",
            "Epoch 8/20\n",
            "\u001b[1m1369/1369\u001b[0m \u001b[32m━━━━━━━━━━━━━━━━━━━━\u001b[0m\u001b[37m\u001b[0m \u001b[1m49s\u001b[0m 36ms/step - accuracy: 0.9702 - loss: 0.1067 - val_accuracy: 0.9772 - val_loss: 0.0863\n",
            "Epoch 9/20\n",
            "\u001b[1m1369/1369\u001b[0m \u001b[32m━━━━━━━━━━━━━━━━━━━━\u001b[0m\u001b[37m\u001b[0m \u001b[1m84s\u001b[0m 38ms/step - accuracy: 0.9694 - loss: 0.1081 - val_accuracy: 0.9767 - val_loss: 0.0818\n",
            "Epoch 10/20\n",
            "\u001b[1m1369/1369\u001b[0m \u001b[32m━━━━━━━━━━━━━━━━━━━━\u001b[0m\u001b[37m\u001b[0m \u001b[1m49s\u001b[0m 36ms/step - accuracy: 0.9713 - loss: 0.0992 - val_accuracy: 0.9763 - val_loss: 0.0840\n",
            "Epoch 11/20\n",
            "\u001b[1m1369/1369\u001b[0m \u001b[32m━━━━━━━━━━━━━━━━━━━━\u001b[0m\u001b[37m\u001b[0m \u001b[1m81s\u001b[0m 36ms/step - accuracy: 0.9706 - loss: 0.1039 - val_accuracy: 0.9780 - val_loss: 0.0785\n",
            "Epoch 12/20\n",
            "\u001b[1m1369/1369\u001b[0m \u001b[32m━━━━━━━━━━━━━━━━━━━━\u001b[0m\u001b[37m\u001b[0m \u001b[1m51s\u001b[0m 37ms/step - accuracy: 0.9716 - loss: 0.0967 - val_accuracy: 0.9784 - val_loss: 0.0762\n",
            "Epoch 13/20\n",
            "\u001b[1m1369/1369\u001b[0m \u001b[32m━━━━━━━━━━━━━━━━━━━━\u001b[0m\u001b[37m\u001b[0m \u001b[1m82s\u001b[0m 37ms/step - accuracy: 0.9708 - loss: 0.0969 - val_accuracy: 0.9794 - val_loss: 0.0760\n",
            "Epoch 14/20\n",
            "\u001b[1m1369/1369\u001b[0m \u001b[32m━━━━━━━━━━━━━━━━━━━━\u001b[0m\u001b[37m\u001b[0m \u001b[1m82s\u001b[0m 38ms/step - accuracy: 0.9732 - loss: 0.0957 - val_accuracy: 0.9794 - val_loss: 0.0756\n",
            "Epoch 15/20\n",
            "\u001b[1m1369/1369\u001b[0m \u001b[32m━━━━━━━━━━━━━━━━━━━━\u001b[0m\u001b[37m\u001b[0m \u001b[1m81s\u001b[0m 37ms/step - accuracy: 0.9728 - loss: 0.0923 - val_accuracy: 0.9802 - val_loss: 0.0727\n",
            "Epoch 16/20\n",
            "\u001b[1m1369/1369\u001b[0m \u001b[32m━━━━━━━━━━━━━━━━━━━━\u001b[0m\u001b[37m\u001b[0m \u001b[1m82s\u001b[0m 37ms/step - accuracy: 0.9729 - loss: 0.0926 - val_accuracy: 0.9798 - val_loss: 0.0735\n",
            "Epoch 17/20\n",
            "\u001b[1m1369/1369\u001b[0m \u001b[32m━━━━━━━━━━━━━━━━━━━━\u001b[0m\u001b[37m\u001b[0m \u001b[1m49s\u001b[0m 35ms/step - accuracy: 0.9738 - loss: 0.0884 - val_accuracy: 0.9798 - val_loss: 0.0741\n",
            "Epoch 18/20\n",
            "\u001b[1m1369/1369\u001b[0m \u001b[32m━━━━━━━━━━━━━━━━━━━━\u001b[0m\u001b[37m\u001b[0m \u001b[1m83s\u001b[0m 36ms/step - accuracy: 0.9741 - loss: 0.0883 - val_accuracy: 0.9810 - val_loss: 0.0727\n",
            "Epoch 19/20\n",
            "\u001b[1m1369/1369\u001b[0m \u001b[32m━━━━━━━━━━━━━━━━━━━━\u001b[0m\u001b[37m\u001b[0m \u001b[1m84s\u001b[0m 38ms/step - accuracy: 0.9750 - loss: 0.0839 - val_accuracy: 0.9803 - val_loss: 0.0734\n",
            "Epoch 20/20\n",
            "\u001b[1m1369/1369\u001b[0m \u001b[32m━━━━━━━━━━━━━━━━━━━━\u001b[0m\u001b[37m\u001b[0m \u001b[1m79s\u001b[0m 36ms/step - accuracy: 0.9758 - loss: 0.0841 - val_accuracy: 0.9799 - val_loss: 0.0709\n"
          ]
        }
      ],
      "source": [
        "#Training the model with training data, using validation data for performance tracking\n",
        "history1 = model1.fit(X_train1, y_train, epochs=20, batch_size=64, validation_data=(X_test1, y_test))"
      ]
    },
    {
      "cell_type": "code",
      "execution_count": 21,
      "metadata": {
        "colab": {
          "base_uri": "https://localhost:8080/"
        },
        "id": "gTAoUeP1-MY_",
        "outputId": "59f4a071-4f8a-4398-f31a-33cd58f77fa7"
      },
      "outputs": [
        {
          "name": "stdout",
          "output_type": "stream",
          "text": [
            "\u001b[1m685/685\u001b[0m \u001b[32m━━━━━━━━━━━━━━━━━━━━\u001b[0m\u001b[37m\u001b[0m \u001b[1m4s\u001b[0m 6ms/step - accuracy: 0.9943 - loss: 0.0301\n",
            "Test Accuracy: 97.99%\n"
          ]
        }
      ],
      "source": [
        "#Evaluating the model on test data and printing the obtained accuracy\n",
        "loss, accuracy = model1.evaluate(X_test1, y_test)\n",
        "print(f'Test Accuracy: {accuracy * 100:.2f}%')"
      ]
    },
    {
      "cell_type": "code",
      "execution_count": 31,
      "metadata": {
        "colab": {
          "base_uri": "https://localhost:8080/",
          "height": 407
        },
        "id": "QL8wQ55qMBBm",
        "outputId": "b2df96e8-0cce-4769-9bcd-dd32b0e41892"
      },
      "outputs": [
        {
          "data": {
            "image/png": "[encoded data removed]",
            "text/plain": [
              "<Figure size 800x400 with 2 Axes>"
            ]
          },
          "metadata": {},
          "output_type": "display_data"
        }
      ],
      "source": [
        "plt.figure(figsize=(8, 4))\n",
        "\n",
        "#Plotting the training & validation accuracy values\n",
        "plt.subplot(1, 2, 1)\n",
        "plt.plot(history1.history['accuracy'])\n",
        "plt.plot(history1.history['val_accuracy'])\n",
        "plt.title('Model accuracy')\n",
        "plt.ylabel('Accuracy')\n",
        "plt.xlabel('Epoch')\n",
        "plt.legend(['Train', 'Test'], loc='upper left')\n",
        "\n",
        "#Plottting training & validation loss values\n",
        "plt.subplot(1, 2, 2)\n",
        "plt.plot(history1.history['loss'])\n",
        "plt.plot(history1.history['val_loss'])\n",
        "plt.title('Model loss')\n",
        "plt.ylabel('Loss')\n",
        "plt.xlabel('Epoch')\n",
        "plt.legend(['Train', 'Test'], loc='upper left')\n",
        "\n",
        "plt.tight_layout()\n",
        "plt.show()"
      ]
    },
    {
      "cell_type": "markdown",
      "metadata": {
        "id": "f5a80mz4-6OA"
      },
      "source": [
        "## Analysis for Model 1\n",
        "1. High Performance:\n",
        "\n",
        "- Achieves 97.99% test accuracy, indicating excellent generalization to unseen data.\n",
        "\n",
        "2. Training and Validation:\n",
        "\n",
        "- Training Accuracy: Improves from 89.97% to 97.58%.\n",
        "\n",
        "- Validation Accuracy: Improves from 95.91% to 97.99%.\n",
        "\n",
        "- Small gap between training and validation accuracy/loss suggests no overfitting.\n",
        "\n",
        "3. Loss Trends:\n",
        "\n",
        "- Training Loss: Decreases from 0.3539 to 0.0841.\n",
        "\n",
        "- Validation Loss: Decreases from 0.1513 to 0.0709.\n",
        "\n",
        "- Consistent decrease indicates effective learning.\n",
        "\n",
        "4. Convergence:\n",
        "\n",
        "- Model converges around epoch 10-15, with minimal improvements afterward.\n",
        "\n",
        "5. Model Accuracy Plot:\n",
        "\n",
        "- Training and Validation Accuracy increase steadily and almost overlap, reaching ~98% by the final epoch.\n",
        "\n",
        "- Indicates the model is learning effectively and generalizing well.\n",
        "\n",
        "6. Model Loss Plot:\n",
        "\n",
        "- Training and Validation Loss decrease consistently, ending at ~0.07.\n",
        "\n",
        "- Low loss values show the model is making confident predictions.\n",
        "\n",
        "7. Key Takeaways:\n",
        "\n",
        "- Model is well-optimized with Dropout preventing overfitting.\n",
        "\n",
        "- Consider early stopping around epoch 15 to save training time."
      ]
    },
    {
      "cell_type": "markdown",
      "metadata": {
        "id": "oNEWTXEf-6Wb"
      },
      "source": [
        "## Model 2"
      ]
    },
    {
      "cell_type": "code",
      "execution_count": 38,
      "metadata": {
        "id": "zJuD4dlo_ASH"
      },
      "outputs": [],
      "source": [
        "# Model 2: CNN with One-hot encoding\n",
        "\n",
        "#Encoding labels using LabelEncoder and converting them to one-hot encoding\n",
        "encoder2 = LabelEncoder()\n",
        "y_train2 = encoder2.fit_transform(y_train)\n",
        "y_test2 = encoder2.transform(y_test)\n",
        "\n",
        "y_train2 = to_categorical(y_train2)\n",
        "y_test2 = to_categorical(y_test2)\n",
        "\n",
        "#Standardizing the feature set\n",
        "scaler2 = StandardScaler()\n",
        "X_train2 = scaler2.fit_transform(X_train)\n",
        "X_test2 = scaler2.transform(X_test)\n",
        "\n",
        "#Reshaping data to match CNN input requirements\n",
        "X_train2 = np.expand_dims(X_train2, axis=-1)\n",
        "X_test2 = np.expand_dims(X_test2, axis=-1)"
      ]
    },
    {
      "cell_type": "code",
      "execution_count": 39,
      "metadata": {
        "colab": {
          "base_uri": "https://localhost:8080/"
        },
        "id": "Ws4LRWBw_8Sw",
        "outputId": "42333219-a8f4-4fa5-8e31-2051c0adf78e"
      },
      "outputs": [
        {
          "name": "stderr",
          "output_type": "stream",
          "text": [
            "/usr/local/lib/python3.11/dist-packages/keras/src/layers/convolutional/base_conv.py:107: UserWarning: Do not pass an `input_shape`/`input_dim` argument to a layer. When using Sequential models, prefer using an `Input(shape)` object as the first layer in the model instead.\n",
            "  super().__init__(activity_regularizer=activity_regularizer, **kwargs)\n"
          ]
        }
      ],
      "source": [
        "#Defining CNN architecture\n",
        "model2 = Sequential([\n",
        "    Conv1D(32, kernel_size=5, activation='relu', input_shape=(X_train2.shape[1], 1)), #First Convolutional Layer\n",
        "    MaxPooling1D(pool_size=2),\n",
        "    Conv1D(64, kernel_size=5, activation='relu'), #Second Convolutional Layer\n",
        "    MaxPooling1D(pool_size=2),\n",
        "    Flatten(),  #Flattening the output\n",
        "    Dense(128, activation='relu'),  #Fully Connected Layer\n",
        "    Dropout(0.5),\n",
        "    Dense(y_train2.shape[1], activation='softmax')  #Output Layer\n",
        "])\n"
      ]
    },
    {
      "cell_type": "code",
      "execution_count": 42,
      "metadata": {
        "id": "CHnSExbuATac"
      },
      "outputs": [],
      "source": [
        "#Compile the model with Adam optimizer and sparse categorical cross-entropy loss\n",
        "model2.compile(optimizer='adam',loss='categorical_crossentropy',metrics=['accuracy'])"
      ]
    },
    {
      "cell_type": "code",
      "execution_count": 43,
      "metadata": {
        "colab": {
          "base_uri": "https://localhost:8080/"
        },
        "id": "IYUqAY9bAqcW",
        "outputId": "0910e1d2-3d5c-4aba-d455-4b89a78c8ad1"
      },
      "outputs": [
        {
          "name": "stdout",
          "output_type": "stream",
          "text": [
            "Epoch 1/20\n",
            "\u001b[1m2737/2737\u001b[0m \u001b[32m━━━━━━━━━━━━━━━━━━━━\u001b[0m\u001b[37m\u001b[0m \u001b[1m32s\u001b[0m 11ms/step - accuracy: 0.9296 - loss: 0.2581 - val_accuracy: 0.9701 - val_loss: 0.1092\n",
            "Epoch 2/20\n",
            "\u001b[1m2737/2737\u001b[0m \u001b[32m━━━━━━━━━━━━━━━━━━━━\u001b[0m\u001b[37m\u001b[0m \u001b[1m40s\u001b[0m 11ms/step - accuracy: 0.9715 - loss: 0.1069 - val_accuracy: 0.9771 - val_loss: 0.0841\n",
            "Epoch 3/20\n",
            "\u001b[1m2737/2737\u001b[0m \u001b[32m━━━━━━━━━━━━━━━━━━━━\u001b[0m\u001b[37m\u001b[0m \u001b[1m41s\u001b[0m 11ms/step - accuracy: 0.9772 - loss: 0.0799 - val_accuracy: 0.9769 - val_loss: 0.0875\n",
            "Epoch 4/20\n",
            "\u001b[1m2737/2737\u001b[0m \u001b[32m━━━━━━━━━━━━━━━━━━━━\u001b[0m\u001b[37m\u001b[0m \u001b[1m42s\u001b[0m 11ms/step - accuracy: 0.9800 - loss: 0.0700 - val_accuracy: 0.9793 - val_loss: 0.0761\n",
            "Epoch 5/20\n",
            "\u001b[1m2737/2737\u001b[0m \u001b[32m━━━━━━━━━━━━━━━━━━━━\u001b[0m\u001b[37m\u001b[0m \u001b[1m40s\u001b[0m 11ms/step - accuracy: 0.9812 - loss: 0.0652 - val_accuracy: 0.9815 - val_loss: 0.0704\n",
            "Epoch 6/20\n",
            "\u001b[1m2737/2737\u001b[0m \u001b[32m━━━━━━━━━━━━━━━━━━━━\u001b[0m\u001b[37m\u001b[0m \u001b[1m42s\u001b[0m 11ms/step - accuracy: 0.9829 - loss: 0.0554 - val_accuracy: 0.9822 - val_loss: 0.0719\n",
            "Epoch 7/20\n",
            "\u001b[1m2737/2737\u001b[0m \u001b[32m━━━━━━━━━━━━━━━━━━━━\u001b[0m\u001b[37m\u001b[0m \u001b[1m40s\u001b[0m 11ms/step - accuracy: 0.9846 - loss: 0.0485 - val_accuracy: 0.9838 - val_loss: 0.0696\n",
            "Epoch 8/20\n",
            "\u001b[1m2737/2737\u001b[0m \u001b[32m━━━━━━━━━━━━━━━━━━━━\u001b[0m\u001b[37m\u001b[0m \u001b[1m30s\u001b[0m 11ms/step - accuracy: 0.9856 - loss: 0.0452 - val_accuracy: 0.9822 - val_loss: 0.0824\n",
            "Epoch 9/20\n",
            "\u001b[1m2737/2737\u001b[0m \u001b[32m━━━━━━━━━━━━━━━━━━━━\u001b[0m\u001b[37m\u001b[0m \u001b[1m29s\u001b[0m 11ms/step - accuracy: 0.9866 - loss: 0.0447 - val_accuracy: 0.9833 - val_loss: 0.0699\n",
            "Epoch 10/20\n",
            "\u001b[1m2737/2737\u001b[0m \u001b[32m━━━━━━━━━━━━━━━━━━━━\u001b[0m\u001b[37m\u001b[0m \u001b[1m41s\u001b[0m 11ms/step - accuracy: 0.9865 - loss: 0.0401 - val_accuracy: 0.9836 - val_loss: 0.0677\n",
            "Epoch 11/20\n",
            "\u001b[1m2737/2737\u001b[0m \u001b[32m━━━━━━━━━━━━━━━━━━━━\u001b[0m\u001b[37m\u001b[0m \u001b[1m29s\u001b[0m 11ms/step - accuracy: 0.9873 - loss: 0.0382 - val_accuracy: 0.9848 - val_loss: 0.0780\n",
            "Epoch 12/20\n",
            "\u001b[1m2737/2737\u001b[0m \u001b[32m━━━━━━━━━━━━━━━━━━━━\u001b[0m\u001b[37m\u001b[0m \u001b[1m30s\u001b[0m 11ms/step - accuracy: 0.9881 - loss: 0.0362 - val_accuracy: 0.9838 - val_loss: 0.0752\n",
            "Epoch 13/20\n",
            "\u001b[1m2737/2737\u001b[0m \u001b[32m━━━━━━━━━━━━━━━━━━━━\u001b[0m\u001b[37m\u001b[0m \u001b[1m32s\u001b[0m 12ms/step - accuracy: 0.9888 - loss: 0.0331 - val_accuracy: 0.9852 - val_loss: 0.0789\n",
            "Epoch 14/20\n",
            "\u001b[1m2737/2737\u001b[0m \u001b[32m━━━━━━━━━━━━━━━━━━━━\u001b[0m\u001b[37m\u001b[0m \u001b[1m29s\u001b[0m 11ms/step - accuracy: 0.9897 - loss: 0.0320 - val_accuracy: 0.9843 - val_loss: 0.0808\n",
            "Epoch 15/20\n",
            "\u001b[1m2737/2737\u001b[0m \u001b[32m━━━━━━━━━━━━━━━━━━━━\u001b[0m\u001b[37m\u001b[0m \u001b[1m42s\u001b[0m 11ms/step - accuracy: 0.9899 - loss: 0.0315 - val_accuracy: 0.9848 - val_loss: 0.0813\n",
            "Epoch 16/20\n",
            "\u001b[1m2737/2737\u001b[0m \u001b[32m━━━━━━━━━━━━━━━━━━━━\u001b[0m\u001b[37m\u001b[0m \u001b[1m30s\u001b[0m 11ms/step - accuracy: 0.9898 - loss: 0.0304 - val_accuracy: 0.9847 - val_loss: 0.0882\n",
            "Epoch 17/20\n",
            "\u001b[1m2737/2737\u001b[0m \u001b[32m━━━━━━━━━━━━━━━━━━━━\u001b[0m\u001b[37m\u001b[0m \u001b[1m41s\u001b[0m 11ms/step - accuracy: 0.9902 - loss: 0.0289 - val_accuracy: 0.9841 - val_loss: 0.1026\n",
            "Epoch 18/20\n",
            "\u001b[1m2737/2737\u001b[0m \u001b[32m━━━━━━━━━━━━━━━━━━━━\u001b[0m\u001b[37m\u001b[0m \u001b[1m40s\u001b[0m 11ms/step - accuracy: 0.9905 - loss: 0.0308 - val_accuracy: 0.9850 - val_loss: 0.0788\n",
            "Epoch 19/20\n",
            "\u001b[1m2737/2737\u001b[0m \u001b[32m━━━━━━━━━━━━━━━━━━━━\u001b[0m\u001b[37m\u001b[0m \u001b[1m41s\u001b[0m 11ms/step - accuracy: 0.9913 - loss: 0.0268 - val_accuracy: 0.9847 - val_loss: 0.0871\n",
            "Epoch 20/20\n",
            "\u001b[1m2737/2737\u001b[0m \u001b[32m━━━━━━━━━━━━━━━━━━━━\u001b[0m\u001b[37m\u001b[0m \u001b[1m32s\u001b[0m 12ms/step - accuracy: 0.9919 - loss: 0.0239 - val_accuracy: 0.9849 - val_loss: 0.0893\n"
          ]
        }
      ],
      "source": [
        "#Training the model with training data, using validation data for performance tracking\n",
        "history2 = model2.fit(X_train2, y_train2, validation_data=(X_test2, y_test2), epochs=20, batch_size=32)"
      ]
    },
    {
      "cell_type": "code",
      "execution_count": 44,
      "metadata": {
        "colab": {
          "base_uri": "https://localhost:8080/"
        },
        "id": "CtHfGY-XA-IW",
        "outputId": "5740f963-d872-4b0d-df85-bc5761667f84"
      },
      "outputs": [
        {
          "name": "stdout",
          "output_type": "stream",
          "text": [
            "\u001b[1m685/685\u001b[0m \u001b[32m━━━━━━━━━━━━━━━━━━━━\u001b[0m\u001b[37m\u001b[0m \u001b[1m2s\u001b[0m 3ms/step - accuracy: 0.9954 - loss: 0.0228\n",
            "Test Accuracy: 0.9849\n"
          ]
        }
      ],
      "source": [
        "#Evaluating the model on test data and printing the obtained accuracy\n",
        "loss, accuracy = model2.evaluate(X_test2, y_test2)\n",
        "print(f\"Test Accuracy: {accuracy:.4f}\")"
      ]
    },
    {
      "cell_type": "code",
      "execution_count": 47,
      "metadata": {
        "colab": {
          "base_uri": "https://localhost:8080/",
          "height": 407
        },
        "id": "8iOwkt6jA8ua",
        "outputId": "b61dd18c-dec1-469d-fd48-8d65b927d80f"
      },
      "outputs": [
        {
          "data": {
            "image/png": "[encoded data removed]",
            "text/plain": [
              "<Figure size 800x400 with 2 Axes>"
            ]
          },
          "metadata": {},
          "output_type": "display_data"
        }
      ],
      "source": [
        "plt.figure(figsize=(8, 4))\n",
        "\n",
        "#Plotting the training & validation accuracy values\n",
        "plt.subplot(1, 2, 1)\n",
        "plt.plot(history2.history['accuracy'])\n",
        "plt.plot(history2.history['val_accuracy'])\n",
        "plt.title('Model accuracy')\n",
        "plt.ylabel('Accuracy')\n",
        "plt.xlabel('Epoch')\n",
        "plt.legend(['Train', 'Test'], loc='upper left')\n",
        "\n",
        "#Plottting training & validation loss values\n",
        "plt.subplot(1, 2, 2)\n",
        "plt.plot(history2.history['loss'])\n",
        "plt.plot(history2.history['val_loss'])\n",
        "plt.title('Model loss')\n",
        "plt.ylabel('Loss')\n",
        "plt.xlabel('Epoch')\n",
        "plt.legend(['Train', 'Test'], loc='upper left')\n",
        "\n",
        "plt.tight_layout()\n",
        "plt.show()"
      ]
    },
    {
      "cell_type": "markdown",
      "metadata": {
        "id": "ahnJOV7wCd51"
      },
      "source": [
        "## Analysis for Model 2\n",
        "1. High Performance:\n",
        "\n",
        "- Achieves 98.49% test accuracy, indicating excellent generalization.\n",
        "\n",
        "2. Training and Validation:\n",
        "\n",
        "- Training Accuracy: Improves from 92.96% to 99.19%.\n",
        "\n",
        "- Validation Accuracy: Improves from 97.01% to 98.49%.\n",
        "\n",
        "- Small gap between training and validation accuracy/loss suggests no overfitting.\n",
        "\n",
        "3. Loss Trends:\n",
        "\n",
        "- Training Loss: Decreases from 0.2581 to 0.0239.\n",
        "\n",
        "- Validation Loss: Decreases from 0.1092 to 0.0893.\n",
        "\n",
        "- Consistent decrease indicates effective learning.\n",
        "\n",
        "4. Convergence:\n",
        "\n",
        "- Model stabilizes around epoch 10-15, with minimal improvements afterward.\n",
        "\n",
        "5. Model Accuracy Plot:\n",
        "\n",
        "- Training and Validation Accuracy increase steadily and almost overlap, reaching ~99% by the final epoch.\n",
        "\n",
        "- Indicates the model is learning effectively and generalizing well.\n",
        "\n",
        "6. Model Loss Plot:\n",
        "\n",
        "- Training and Validation Loss decrease consistently, ending at ~0.08.\n",
        "\n",
        "- Low loss values show the model is making confident predictions.\n",
        "\n",
        "7. Key Takeaways:\n",
        "\n",
        "- Model performs exceptionally well (98.49% test accuracy).\n",
        "\n",
        "- Ready for deployment with high confidence.\n",
        "\n",
        "- Consider early stopping around epoch 15 to save resources."
      ]
    },
    {
      "cell_type": "markdown",
      "metadata": {
        "id": "QRKXOBS9CeEE"
      },
      "source": [
        "##Model 3"
      ]
    },
    {
      "cell_type": "code",
      "execution_count": 48,
      "metadata": {
        "id": "sEswlaOnCiWW"
      },
      "outputs": [],
      "source": [
        "# Model 3: CNN with Class Imbalance Handling (SMOTE)\n",
        "\n",
        "smote = SMOTE()\n",
        "X_train3, y_train3 = smote.fit_resample(X_train, y_train)\n",
        "\n",
        "#Standardizing the feature set\n",
        "scaler3 = StandardScaler()\n",
        "X_train3 = scaler3.fit_transform(X_train3)\n",
        "X_test3 = scaler3.transform(X_test)\n",
        "\n",
        "#Reshaping data to match CNN input requirements\n",
        "X_train3 = np.expand_dims(X_train3, axis=-1)\n",
        "X_test3 = np.expand_dims(X_test3, axis=-1)"
      ]
    },
    {
      "cell_type": "code",
      "execution_count": 49,
      "metadata": {
        "colab": {
          "base_uri": "https://localhost:8080/"
        },
        "id": "4J4m4A3kCouC",
        "outputId": "ac1f408c-0ff0-4088-b644-48abfc9f5493"
      },
      "outputs": [
        {
          "name": "stderr",
          "output_type": "stream",
          "text": [
            "/usr/local/lib/python3.11/dist-packages/keras/src/layers/convolutional/base_conv.py:107: UserWarning: Do not pass an `input_shape`/`input_dim` argument to a layer. When using Sequential models, prefer using an `Input(shape)` object as the first layer in the model instead.\n",
            "  super().__init__(activity_regularizer=activity_regularizer, **kwargs)\n"
          ]
        }
      ],
      "source": [
        "#Defining CNN architecture\n",
        "model3 = Sequential([\n",
        "    Conv1D(32, kernel_size=3, activation='relu', input_shape=(X_train3.shape[1], 1)), #First Convolutional Layer\n",
        "    MaxPooling1D(pool_size=2),\n",
        "    Dropout(0.3),\n",
        "    Conv1D(64, kernel_size=3, activation='relu'), #Second Convolutional Layer\n",
        "    MaxPooling1D(pool_size=2),\n",
        "    Dropout(0.3),\n",
        "    Flatten(),  #Flattening the output\n",
        "    Dense(128, activation='relu'),  #Fully Connected Layer\n",
        "    Dropout(0.3),\n",
        "    Dense(5, activation='softmax')  #Output Layer\n",
        "])"
      ]
    },
    {
      "cell_type": "code",
      "execution_count": 50,
      "metadata": {
        "id": "r195DVjWCqXf"
      },
      "outputs": [],
      "source": [
        "#Compile the model with Adam optimizer and sparse categorical cross-entropy loss\n",
        "model3.compile(optimizer='adam', loss='sparse_categorical_crossentropy', metrics=['accuracy'])"
      ]
    },
    {
      "cell_type": "code",
      "execution_count": 51,
      "metadata": {
        "colab": {
          "base_uri": "https://localhost:8080/"
        },
        "id": "jINo0oAHCr2v",
        "outputId": "4caea5b7-cbfe-4154-ccfb-2c6effa62c84"
      },
      "outputs": [
        {
          "name": "stdout",
          "output_type": "stream",
          "text": [
            "Epoch 1/20\n",
            "\u001b[1m11324/11324\u001b[0m \u001b[32m━━━━━━━━━━━━━━━━━━━━\u001b[0m\u001b[37m\u001b[0m \u001b[1m126s\u001b[0m 11ms/step - accuracy: 0.8841 - loss: 0.3206 - val_accuracy: 0.9366 - val_loss: 0.1806\n",
            "Epoch 2/20\n",
            "\u001b[1m11324/11324\u001b[0m \u001b[32m━━━━━━━━━━━━━━━━━━━━\u001b[0m\u001b[37m\u001b[0m \u001b[1m127s\u001b[0m 11ms/step - accuracy: 0.9589 - loss: 0.1168 - val_accuracy: 0.9548 - val_loss: 0.1381\n",
            "Epoch 3/20\n",
            "\u001b[1m11324/11324\u001b[0m \u001b[32m━━━━━━━━━━━━━━━━━━━━\u001b[0m\u001b[37m\u001b[0m \u001b[1m143s\u001b[0m 11ms/step - accuracy: 0.9686 - loss: 0.0891 - val_accuracy: 0.9515 - val_loss: 0.1511\n",
            "Epoch 4/20\n",
            "\u001b[1m11324/11324\u001b[0m \u001b[32m━━━━━━━━━━━━━━━━━━━━\u001b[0m\u001b[37m\u001b[0m \u001b[1m126s\u001b[0m 11ms/step - accuracy: 0.9734 - loss: 0.0777 - val_accuracy: 0.9608 - val_loss: 0.1293\n",
            "Epoch 5/20\n",
            "\u001b[1m11324/11324\u001b[0m \u001b[32m━━━━━━━━━━━━━━━━━━━━\u001b[0m\u001b[37m\u001b[0m \u001b[1m130s\u001b[0m 11ms/step - accuracy: 0.9765 - loss: 0.0691 - val_accuracy: 0.9606 - val_loss: 0.1271\n",
            "Epoch 6/20\n",
            "\u001b[1m11324/11324\u001b[0m \u001b[32m━━━━━━━━━━━━━━━━━━━━\u001b[0m\u001b[37m\u001b[0m \u001b[1m140s\u001b[0m 11ms/step - accuracy: 0.9781 - loss: 0.0647 - val_accuracy: 0.9654 - val_loss: 0.1297\n",
            "Epoch 7/20\n",
            "\u001b[1m11324/11324\u001b[0m \u001b[32m━━━━━━━━━━━━━━━━━━━━\u001b[0m\u001b[37m\u001b[0m \u001b[1m141s\u001b[0m 11ms/step - accuracy: 0.9799 - loss: 0.0594 - val_accuracy: 0.9629 - val_loss: 0.1282\n",
            "Epoch 8/20\n",
            "\u001b[1m11324/11324\u001b[0m \u001b[32m━━━━━━━━━━━━━━━━━━━━\u001b[0m\u001b[37m\u001b[0m \u001b[1m127s\u001b[0m 11ms/step - accuracy: 0.9805 - loss: 0.0573 - val_accuracy: 0.9723 - val_loss: 0.1061\n",
            "Epoch 9/20\n",
            "\u001b[1m11324/11324\u001b[0m \u001b[32m━━━━━━━━━━━━━━━━━━━━\u001b[0m\u001b[37m\u001b[0m \u001b[1m142s\u001b[0m 11ms/step - accuracy: 0.9813 - loss: 0.0557 - val_accuracy: 0.9662 - val_loss: 0.1266\n",
            "Epoch 10/20\n",
            "\u001b[1m11324/11324\u001b[0m \u001b[32m━━━━━━━━━━━━━━━━━━━━\u001b[0m\u001b[37m\u001b[0m \u001b[1m137s\u001b[0m 12ms/step - accuracy: 0.9822 - loss: 0.0536 - val_accuracy: 0.9662 - val_loss: 0.1205\n",
            "Epoch 11/20\n",
            "\u001b[1m11324/11324\u001b[0m \u001b[32m━━━━━━━━━━━━━━━━━━━━\u001b[0m\u001b[37m\u001b[0m \u001b[1m140s\u001b[0m 12ms/step - accuracy: 0.9829 - loss: 0.0513 - val_accuracy: 0.9735 - val_loss: 0.1116\n",
            "Epoch 12/20\n",
            "\u001b[1m11324/11324\u001b[0m \u001b[32m━━━━━━━━━━━━━━━━━━━━\u001b[0m\u001b[37m\u001b[0m \u001b[1m133s\u001b[0m 11ms/step - accuracy: 0.9834 - loss: 0.0499 - val_accuracy: 0.9714 - val_loss: 0.1189\n",
            "Epoch 13/20\n",
            "\u001b[1m11324/11324\u001b[0m \u001b[32m━━━━━━━━━━━━━━━━━━━━\u001b[0m\u001b[37m\u001b[0m \u001b[1m128s\u001b[0m 11ms/step - accuracy: 0.9833 - loss: 0.0501 - val_accuracy: 0.9709 - val_loss: 0.1172\n",
            "Epoch 14/20\n",
            "\u001b[1m11324/11324\u001b[0m \u001b[32m━━━━━━━━━━━━━━━━━━━━\u001b[0m\u001b[37m\u001b[0m \u001b[1m142s\u001b[0m 11ms/step - accuracy: 0.9838 - loss: 0.0492 - val_accuracy: 0.9719 - val_loss: 0.1129\n",
            "Epoch 15/20\n",
            "\u001b[1m11324/11324\u001b[0m \u001b[32m━━━━━━━━━━━━━━━━━━━━\u001b[0m\u001b[37m\u001b[0m \u001b[1m125s\u001b[0m 11ms/step - accuracy: 0.9845 - loss: 0.0477 - val_accuracy: 0.9755 - val_loss: 0.1061\n",
            "Epoch 16/20\n",
            "\u001b[1m11324/11324\u001b[0m \u001b[32m━━━━━━━━━━━━━━━━━━━━\u001b[0m\u001b[37m\u001b[0m \u001b[1m145s\u001b[0m 11ms/step - accuracy: 0.9847 - loss: 0.0471 - val_accuracy: 0.9776 - val_loss: 0.1101\n",
            "Epoch 17/20\n",
            "\u001b[1m11324/11324\u001b[0m \u001b[32m━━━━━━━━━━━━━━━━━━━━\u001b[0m\u001b[37m\u001b[0m \u001b[1m146s\u001b[0m 12ms/step - accuracy: 0.9844 - loss: 0.0461 - val_accuracy: 0.9717 - val_loss: 0.1121\n",
            "Epoch 18/20\n",
            "\u001b[1m11324/11324\u001b[0m \u001b[32m━━━━━━━━━━━━━━━━━━━━\u001b[0m\u001b[37m\u001b[0m \u001b[1m159s\u001b[0m 13ms/step - accuracy: 0.9857 - loss: 0.0440 - val_accuracy: 0.9734 - val_loss: 0.1106\n",
            "Epoch 19/20\n",
            "\u001b[1m11324/11324\u001b[0m \u001b[32m━━━━━━━━━━━━━━━━━━━━\u001b[0m\u001b[37m\u001b[0m \u001b[1m202s\u001b[0m 13ms/step - accuracy: 0.9852 - loss: 0.0448 - val_accuracy: 0.9712 - val_loss: 0.1247\n",
            "Epoch 20/20\n",
            "\u001b[1m11324/11324\u001b[0m \u001b[32m━━━━━━━━━━━━━━━━━━━━\u001b[0m\u001b[37m\u001b[0m \u001b[1m182s\u001b[0m 11ms/step - accuracy: 0.9856 - loss: 0.0442 - val_accuracy: 0.9729 - val_loss: 0.1106\n"
          ]
        }
      ],
      "source": [
        "#Training the model with training data, using validation data for performance tracking\n",
        "history3 = model3.fit(X_train3, y_train3, epochs=20, batch_size=32, validation_data=(X_test3, y_test))"
      ]
    },
    {
      "cell_type": "code",
      "execution_count": 52,
      "metadata": {
        "colab": {
          "base_uri": "https://localhost:8080/"
        },
        "id": "sKvB3rJ8D0YR",
        "outputId": "dee23b6f-4aa7-4612-af6f-f4f6b49285af"
      },
      "outputs": [
        {
          "name": "stdout",
          "output_type": "stream",
          "text": [
            "\u001b[1m685/685\u001b[0m \u001b[32m━━━━━━━━━━━━━━━━━━━━\u001b[0m\u001b[37m\u001b[0m \u001b[1m2s\u001b[0m 3ms/step - accuracy: 0.9779 - loss: 0.0628\n",
            "Test Accuracy: 0.9729\n"
          ]
        }
      ],
      "source": [
        "#Evaluating the model on test data and printing the obtained accuracy\n",
        "loss, accuracy = model3.evaluate(X_test3, y_test)\n",
        "print(f\"Test Accuracy: {accuracy:.4f}\")"
      ]
    },
    {
      "cell_type": "code",
      "execution_count": 54,
      "metadata": {
        "colab": {
          "base_uri": "https://localhost:8080/",
          "height": 407
        },
        "id": "IbUcz3jOD6LB",
        "outputId": "91a0ab3d-2450-401a-a8fc-1eab3f6b199d"
      },
      "outputs": [
        {
          "data": {
            "image/png": "[encoded data removed]",
            "text/plain": [
              "<Figure size 800x400 with 2 Axes>"
            ]
          },
          "metadata": {},
          "output_type": "display_data"
        }
      ],
      "source": [
        "plt.figure(figsize=(8, 4))\n",
        "\n",
        "#Plotting the training & validation accuracy values\n",
        "plt.subplot(1, 2, 1)\n",
        "plt.plot(history3.history['accuracy'])\n",
        "plt.plot(history3.history['val_accuracy'])\n",
        "plt.title('Model accuracy')\n",
        "plt.ylabel('Accuracy')\n",
        "plt.xlabel('Epoch')\n",
        "plt.legend(['Train', 'Test'], loc='upper left')\n",
        "\n",
        "#Plottting training & validation loss values\n",
        "plt.subplot(1, 2, 2)\n",
        "plt.plot(history3.history['loss'])\n",
        "plt.plot(history3.history['val_loss'])\n",
        "plt.title('Model loss')\n",
        "plt.ylabel('Loss')\n",
        "plt.xlabel('Epoch')\n",
        "plt.legend(['Train', 'Test'], loc='upper left')\n",
        "\n",
        "plt.tight_layout()\n",
        "plt.show()"
      ]
    },
    {
      "cell_type": "markdown",
      "metadata": {
        "id": "572PtrrYD-ZH"
      },
      "source": [
        "##Analysis for Model 3\n",
        "1. High Performance:\n",
        "\n",
        "- Achieves 97.29% test accuracy, indicating excellent generalization.\n",
        "\n",
        "2. Training and Validation:\n",
        "\n",
        "- Training Accuracy: Improves from 88.41% to 98.56%.\n",
        "\n",
        "- Validation Accuracy: Improves from 93.66% to 97.29%.\n",
        "\n",
        "- Small gap between training and validation accuracy/loss suggests no overfitting.\n",
        "\n",
        "3. Loss Trends:\n",
        "\n",
        "- Training Loss: Decreases from 0.3206 to 0.0442.\n",
        "\n",
        "- Validation Loss: Decreases from 0.1806 to 0.1106.\n",
        "\n",
        "- Consistent decrease indicates effective learning.\n",
        "\n",
        "4. Convergence:\n",
        "\n",
        "- Model stabilizes around epoch 10-15, with minimal improvements afterward.\n",
        "\n",
        "5. Model Accuracy Plot:\n",
        "\n",
        "- Training and Validation Accuracy increase steadily and almost overlap, reaching ~98% by the final epoch.\n",
        "\n",
        "- Indicates the model is learning effectively and generalizing well.\n",
        "\n",
        "6. Model Loss Plot:\n",
        "\n",
        "- Training and Validation Loss decrease consistently, ending at ~0.11.\n",
        "\n",
        "- Low loss values show the model is making confident predictions.\n",
        "\n",
        "7. Key Takeaways:\n",
        "\n",
        "- Model performs exceptionally well (97.29% test accuracy).\n",
        "\n",
        "- Ready for deployment with high confidence.\n",
        "\n",
        "- Consider early stopping around epoch 15 to save resources."
      ]
    },
    {
      "cell_type": "markdown",
      "metadata": {
        "id": "1rXEMc8wD-jH"
      },
      "source": [
        "##Model 4"
      ]
    },
    {
      "cell_type": "code",
      "execution_count": 55,
      "metadata": {
        "id": "Kl4J-VeNED1h"
      },
      "outputs": [],
      "source": [
        "# Model 4: Addressing Missing Values and Training\n",
        "\n",
        "X_train4 = np.nan_to_num(X_train)\n",
        "X_test4 = np.nan_to_num(X_test)\n",
        "\n",
        "#Standardizing the feature set\n",
        "scaler4 = StandardScaler()\n",
        "X_train4 = scaler4.fit_transform(X_train4)\n",
        "X_test4 = scaler4.transform(X_test4)\n",
        "\n",
        "#Reshaping data to match CNN input requirements\n",
        "X_train4 = np.expand_dims(X_train4, axis=-1)\n",
        "X_test4 = np.expand_dims(X_test4, axis=-1)"
      ]
    },
    {
      "cell_type": "code",
      "execution_count": 56,
      "metadata": {
        "colab": {
          "base_uri": "https://localhost:8080/"
        },
        "id": "fS3gvCkkEbmk",
        "outputId": "bac1f6f9-4ec5-4f1e-cce6-6af9105cde46"
      },
      "outputs": [
        {
          "name": "stderr",
          "output_type": "stream",
          "text": [
            "/usr/local/lib/python3.11/dist-packages/keras/src/layers/convolutional/base_conv.py:107: UserWarning: Do not pass an `input_shape`/`input_dim` argument to a layer. When using Sequential models, prefer using an `Input(shape)` object as the first layer in the model instead.\n",
            "  super().__init__(activity_regularizer=activity_regularizer, **kwargs)\n"
          ]
        }
      ],
      "source": [
        "#Defining CNN architecture\n",
        "model4 = Sequential([\n",
        "    Conv1D(64, kernel_size=3, activation='relu', input_shape=(X_train4.shape[1], 1)), #First Convolutional Layer\n",
        "    MaxPooling1D(pool_size=2),\n",
        "    Dropout(0.4),\n",
        "    Conv1D(128, kernel_size=3, activation='relu'),  #Second Convolutional Layer\n",
        "    MaxPooling1D(pool_size=2),\n",
        "    Dropout(0.4),\n",
        "    Flatten(),  #Flattening the output\n",
        "    Dense(128, activation='relu'),  #Fully Connected Layer\n",
        "    Dropout(0.4),\n",
        "    Dense(5, activation='softmax')  #Output Layer\n",
        "])"
      ]
    },
    {
      "cell_type": "code",
      "execution_count": 57,
      "metadata": {
        "id": "BdIvari-EdSQ"
      },
      "outputs": [],
      "source": [
        "#Compile the model with Adam optimizer and sparse categorical cross-entropy loss\n",
        "model4.compile(optimizer='adam', loss='sparse_categorical_crossentropy', metrics=['accuracy'])"
      ]
    },
    {
      "cell_type": "code",
      "execution_count": 58,
      "metadata": {
        "colab": {
          "base_uri": "https://localhost:8080/"
        },
        "id": "0AIsCseQEwIi",
        "outputId": "7c9a9a06-a68a-4b79-ce1f-87329db41649"
      },
      "outputs": [
        {
          "name": "stdout",
          "output_type": "stream",
          "text": [
            "Epoch 1/20\n",
            "\u001b[1m2737/2737\u001b[0m \u001b[32m━━━━━━━━━━━━━━━━━━━━\u001b[0m\u001b[37m\u001b[0m \u001b[1m72s\u001b[0m 26ms/step - accuracy: 0.9148 - loss: 0.3052 - val_accuracy: 0.9657 - val_loss: 0.1241\n",
            "Epoch 2/20\n",
            "\u001b[1m2737/2737\u001b[0m \u001b[32m━━━━━━━━━━━━━━━━━━━━\u001b[0m\u001b[37m\u001b[0m \u001b[1m81s\u001b[0m 26ms/step - accuracy: 0.9606 - loss: 0.1453 - val_accuracy: 0.9723 - val_loss: 0.1024\n",
            "Epoch 3/20\n",
            "\u001b[1m2737/2737\u001b[0m \u001b[32m━━━━━━━━━━━━━━━━━━━━\u001b[0m\u001b[37m\u001b[0m \u001b[1m90s\u001b[0m 29ms/step - accuracy: 0.9652 - loss: 0.1258 - val_accuracy: 0.9745 - val_loss: 0.0923\n",
            "Epoch 4/20\n",
            "\u001b[1m2737/2737\u001b[0m \u001b[32m━━━━━━━━━━━━━━━━━━━━\u001b[0m\u001b[37m\u001b[0m \u001b[1m66s\u001b[0m 23ms/step - accuracy: 0.9699 - loss: 0.1109 - val_accuracy: 0.9772 - val_loss: 0.0841\n",
            "Epoch 5/20\n",
            "\u001b[1m2737/2737\u001b[0m \u001b[32m━━━━━━━━━━━━━━━━━━━━\u001b[0m\u001b[37m\u001b[0m \u001b[1m73s\u001b[0m 27ms/step - accuracy: 0.9712 - loss: 0.1014 - val_accuracy: 0.9776 - val_loss: 0.0826\n",
            "Epoch 6/20\n",
            "\u001b[1m2737/2737\u001b[0m \u001b[32m━━━━━━━━━━━━━━━━━━━━\u001b[0m\u001b[37m\u001b[0m \u001b[1m66s\u001b[0m 24ms/step - accuracy: 0.9729 - loss: 0.0968 - val_accuracy: 0.9784 - val_loss: 0.0782\n",
            "Epoch 7/20\n",
            "\u001b[1m2737/2737\u001b[0m \u001b[32m━━━━━━━━━━━━━━━━━━━━\u001b[0m\u001b[37m\u001b[0m \u001b[1m84s\u001b[0m 25ms/step - accuracy: 0.9737 - loss: 0.0926 - val_accuracy: 0.9804 - val_loss: 0.0731\n",
            "Epoch 8/20\n",
            "\u001b[1m2737/2737\u001b[0m \u001b[32m━━━━━━━━━━━━━━━━━━━━\u001b[0m\u001b[37m\u001b[0m \u001b[1m75s\u001b[0m 22ms/step - accuracy: 0.9765 - loss: 0.0838 - val_accuracy: 0.9797 - val_loss: 0.0729\n",
            "Epoch 9/20\n",
            "\u001b[1m2737/2737\u001b[0m \u001b[32m━━━━━━━━━━━━━━━━━━━━\u001b[0m\u001b[37m\u001b[0m \u001b[1m60s\u001b[0m 22ms/step - accuracy: 0.9762 - loss: 0.0827 - val_accuracy: 0.9803 - val_loss: 0.0731\n",
            "Epoch 10/20\n",
            "\u001b[1m2737/2737\u001b[0m \u001b[32m━━━━━━━━━━━━━━━━━━━━\u001b[0m\u001b[37m\u001b[0m \u001b[1m84s\u001b[0m 23ms/step - accuracy: 0.9764 - loss: 0.0843 - val_accuracy: 0.9808 - val_loss: 0.0725\n",
            "Epoch 11/20\n",
            "\u001b[1m2737/2737\u001b[0m \u001b[32m━━━━━━━━━━━━━━━━━━━━\u001b[0m\u001b[37m\u001b[0m \u001b[1m82s\u001b[0m 23ms/step - accuracy: 0.9772 - loss: 0.0796 - val_accuracy: 0.9810 - val_loss: 0.0693\n",
            "Epoch 12/20\n",
            "\u001b[1m2737/2737\u001b[0m \u001b[32m━━━━━━━━━━━━━━━━━━━━\u001b[0m\u001b[37m\u001b[0m \u001b[1m82s\u001b[0m 23ms/step - accuracy: 0.9776 - loss: 0.0776 - val_accuracy: 0.9816 - val_loss: 0.0675\n",
            "Epoch 13/20\n",
            "\u001b[1m2737/2737\u001b[0m \u001b[32m━━━━━━━━━━━━━━━━━━━━\u001b[0m\u001b[37m\u001b[0m \u001b[1m82s\u001b[0m 23ms/step - accuracy: 0.9783 - loss: 0.0747 - val_accuracy: 0.9814 - val_loss: 0.0673\n",
            "Epoch 14/20\n",
            "\u001b[1m2737/2737\u001b[0m \u001b[32m━━━━━━━━━━━━━━━━━━━━\u001b[0m\u001b[37m\u001b[0m \u001b[1m81s\u001b[0m 22ms/step - accuracy: 0.9782 - loss: 0.0737 - val_accuracy: 0.9821 - val_loss: 0.0670\n",
            "Epoch 15/20\n",
            "\u001b[1m2737/2737\u001b[0m \u001b[32m━━━━━━━━━━━━━━━━━━━━\u001b[0m\u001b[37m\u001b[0m \u001b[1m84s\u001b[0m 23ms/step - accuracy: 0.9794 - loss: 0.0708 - val_accuracy: 0.9816 - val_loss: 0.0713\n",
            "Epoch 16/20\n",
            "\u001b[1m2737/2737\u001b[0m \u001b[32m━━━━━━━━━━━━━━━━━━━━\u001b[0m\u001b[37m\u001b[0m \u001b[1m80s\u001b[0m 22ms/step - accuracy: 0.9790 - loss: 0.0691 - val_accuracy: 0.9824 - val_loss: 0.0669\n",
            "Epoch 17/20\n",
            "\u001b[1m2737/2737\u001b[0m \u001b[32m━━━━━━━━━━━━━━━━━━━━\u001b[0m\u001b[37m\u001b[0m \u001b[1m84s\u001b[0m 23ms/step - accuracy: 0.9791 - loss: 0.0701 - val_accuracy: 0.9826 - val_loss: 0.0647\n",
            "Epoch 18/20\n",
            "\u001b[1m2737/2737\u001b[0m \u001b[32m━━━━━━━━━━━━━━━━━━━━\u001b[0m\u001b[37m\u001b[0m \u001b[1m82s\u001b[0m 23ms/step - accuracy: 0.9806 - loss: 0.0665 - val_accuracy: 0.9828 - val_loss: 0.0651\n",
            "Epoch 19/20\n",
            "\u001b[1m2737/2737\u001b[0m \u001b[32m━━━━━━━━━━━━━━━━━━━━\u001b[0m\u001b[37m\u001b[0m \u001b[1m60s\u001b[0m 22ms/step - accuracy: 0.9802 - loss: 0.0679 - val_accuracy: 0.9825 - val_loss: 0.0648\n",
            "Epoch 20/20\n",
            "\u001b[1m2737/2737\u001b[0m \u001b[32m━━━━━━━━━━━━━━━━━━━━\u001b[0m\u001b[37m\u001b[0m \u001b[1m60s\u001b[0m 22ms/step - accuracy: 0.9805 - loss: 0.0657 - val_accuracy: 0.9829 - val_loss: 0.0629\n"
          ]
        }
      ],
      "source": [
        "#Training the model with training data, using validation data for performance tracking\n",
        "history4 = model4.fit(X_train4, y_train, epochs=20, batch_size=32, validation_data=(X_test4, y_test))"
      ]
    },
    {
      "cell_type": "code",
      "execution_count": 59,
      "metadata": {
        "colab": {
          "base_uri": "https://localhost:8080/"
        },
        "id": "GyNq093NE6HN",
        "outputId": "3f09446c-c831-4853-c77a-d85212e7c988"
      },
      "outputs": [
        {
          "name": "stdout",
          "output_type": "stream",
          "text": [
            "\u001b[1m685/685\u001b[0m \u001b[32m━━━━━━━━━━━━━━━━━━━━\u001b[0m\u001b[37m\u001b[0m \u001b[1m3s\u001b[0m 5ms/step - accuracy: 0.9942 - loss: 0.0274\n",
            "Test Accuracy: 0.9829\n"
          ]
        }
      ],
      "source": [
        "#Evaluating the model on test data and printing the obtained accuracy\n",
        "loss, accuracy = model4.evaluate(X_test4, y_test)\n",
        "print(f\"Test Accuracy: {accuracy:.4f}\")"
      ]
    },
    {
      "cell_type": "code",
      "execution_count": 60,
      "metadata": {
        "colab": {
          "base_uri": "https://localhost:8080/",
          "height": 407
        },
        "id": "GPPIcSd7E9hz",
        "outputId": "d01a05b5-48d3-4abf-f7ae-28f9adb946db"
      },
      "outputs": [
        {
          "data": {
            "image/png": "[encoded data removed]",
            "text/plain": [
              "<Figure size 800x400 with 2 Axes>"
            ]
          },
          "metadata": {},
          "output_type": "display_data"
        }
      ],
      "source": [
        "plt.figure(figsize=(8, 4))\n",
        "\n",
        "#Plotting the training & validation accuracy values\n",
        "plt.subplot(1, 2, 1)\n",
        "plt.plot(history4.history['accuracy'])\n",
        "plt.plot(history4.history['val_accuracy'])\n",
        "plt.title('Model accuracy')\n",
        "plt.ylabel('Accuracy')\n",
        "plt.xlabel('Epoch')\n",
        "plt.legend(['Train', 'Test'], loc='upper left')\n",
        "\n",
        "#Plottting training & validation loss values\n",
        "plt.subplot(1, 2, 2)\n",
        "plt.plot(history4.history['loss'])\n",
        "plt.plot(history4.history['val_loss'])\n",
        "plt.title('Model loss')\n",
        "plt.ylabel('Loss')\n",
        "plt.xlabel('Epoch')\n",
        "plt.legend(['Train', 'Test'], loc='upper left')\n",
        "\n",
        "plt.tight_layout()\n",
        "plt.show()"
      ]
    },
    {
      "cell_type": "markdown",
      "metadata": {
        "id": "aoh_K9ILfJb0"
      },
      "source": [
        "##Analysis for Model 4\n",
        "1. High Performance:\n",
        "\n",
        "- Achieves 98.29% test accuracy, indicating excellent generalization.\n",
        "\n",
        "2. Training and Validation:\n",
        "\n",
        "- Training Accuracy: Improves from 91.48% to 98.05%.\n",
        "\n",
        "- Validation Accuracy: Improves from 96.57% to 98.29%.\n",
        "\n",
        "- Small gap between training and validation accuracy/loss suggests no overfitting.\n",
        "\n",
        "3. Loss Trends:\n",
        "\n",
        "- Training Loss: Decreases from 0.3052 to 0.0657.\n",
        "\n",
        "- Validation Loss: Decreases from 0.1241 to 0.0629.\n",
        "\n",
        "- Consistent decrease indicates effective learning.\n",
        "\n",
        "4. Convergence:\n",
        "\n",
        "- Model stabilizes around epoch 10-15, with minimal improvements afterward.\n",
        "\n",
        "5. Model Accuracy Plot:\n",
        "\n",
        "- Training and Validation Accuracy increase steadily and almost overlap, reaching ~98% by the final epoch.\n",
        "\n",
        "- Indicates the model is learning effectively and generalizing well.\n",
        "\n",
        "6. Model Loss Plot:\n",
        "\n",
        "- Training and Validation Loss decrease consistently, ending at ~0.06.\n",
        "\n",
        "- Low loss values show the model is making confident predictions.\n",
        "\n",
        "7. Key Takeaways:\n",
        "\n",
        "- Model performs exceptionally well (98.29% test accuracy).\n",
        "\n",
        "- Ready for deployment with high confidence.\n",
        "\n",
        "- Consider early stopping around epoch 15 to save resources.\n"
      ]
    },
    {
      "cell_type": "markdown",
      "metadata": {
        "id": "nw9s04V7mOWy"
      },
      "source": [
        "## Conclusion\n",
        "\n",
        "In this notebook, I have implemented and evaluated four different Convolutional Neural Network (CNN) models to address various challenges in a classification task. Each model was designed to handle specific aspects of the dataset, such as class imbalance, missing values, and different encoding techniques. Below is a brief description of each model, why it was used, and how it compares to the others based on the accuracy data and graphs:\n",
        "\n",
        "1. Model 1: CNN without Class Balancing\n",
        "- Description: This is a baseline CNN model that uses raw data without any class balancing or special preprocessing for imbalanced classes.\n",
        "\n",
        "- Why Used: To establish a baseline performance for the dataset without any additional techniques.\n",
        "\n",
        "- Performance: Achieved a test accuracy of 97.99%.\n",
        "\n",
        "- Strengths: Simple and straightforward, providing a good starting point for comparison.\n",
        "\n",
        "- Limitations: May not perform well on imbalanced datasets, as it does not account for class distribution.\n",
        "\n",
        "2. Model 2: CNN with One-Hot Encoding\n",
        "- Description: This model uses one-hot encoding for the labels, which is suitable for multi-class classification tasks.\n",
        "\n",
        "- Why Used: To handle categorical labels more effectively by converting them into a binary matrix representation.\n",
        "\n",
        "- Performance: Achieved a test accuracy of 98.49%.\n",
        "\n",
        "- Strengths: Improved accuracy over Model 1, as one-hot encoding can better represent categorical data.\n",
        "\n",
        "- Limitations: Requires more memory and computational resources due to the one-hot encoding process.\n",
        "\n",
        "3. Model 3: CNN with Class Imbalance Handling (SMOTE)\n",
        "- Description: This model addresses class imbalance using the Synthetic Minority Over-sampling Technique (SMOTE) to balance the dataset.\n",
        "\n",
        "- Why Used: To improve performance on imbalanced datasets by generating synthetic samples for minority classes.\n",
        "\n",
        "- Performance: Achieved a test accuracy of 97.29%.\n",
        "\n",
        "- Strengths: Better handling of imbalanced classes, which can improve generalization on minority classes.\n",
        "\n",
        "- Limitations: Slightly lower accuracy compared to Models 1 and 2, possibly due to the introduction of synthetic samples.\n",
        "\n",
        "4. Model 4: CNN Addressing Missing Values\n",
        "- Description: This model handles missing values in the dataset by replacing them with zeros and then standardizing the data.\n",
        "\n",
        "- Why Used: To ensure that missing values do not negatively impact the model's performance.\n",
        "\n",
        "- Performance: Achieved a test accuracy of 98.29%.\n",
        "\n",
        "- Strengths: Robust to missing data, making it suitable for real-world datasets with incomplete records.\n",
        "\n",
        "- Limitations: Replacing missing values with zeros may not always be the best approach, depending on the dataset.\n",
        "\n",
        "Comparison and Insights\n",
        "\n",
        "1. Accuracy:\n",
        "\n",
        "  - Model 2 (One-Hot Encoding) achieved the highest test accuracy (98.49%),\n",
        "  - followed by Model 4 (Missing Values Handling) at 98.29%,\n",
        "  - Model 1 (Baseline) at 97.99%, and\n",
        "  - Model 3 (SMOTE) at 97.29%.\n",
        "\n",
        "- This suggests that one-hot encoding and handling missing values can improve model performance, while SMOTE may slightly reduce accuracy due to synthetic data generation.\n",
        "\n",
        "2. Overfitting:\n",
        "\n",
        "- All models showed minimal overfitting, as indicated by the small gap between training and validation accuracy/loss in the graphs.\n",
        "\n",
        "3. Class Imbalance:\n",
        "\n",
        "- Model 3 (SMOTE) was specifically designed to handle class imbalance, but its accuracy was slightly lower than the others. This could indicate that the dataset was not heavily imbalanced, or that SMOTE introduced some noise.\n",
        "\n",
        "4. Robustness:\n",
        "\n",
        "- Model 4 (Missing Values Handling) demonstrated robustness to missing data, making it a good choice for real-world datasets with incomplete records.\n",
        "\n",
        "Best Model: Model 2 (One-Hot Encoding) is the best-performing model with the highest test accuracy (98.49%)."
      ]
    }
  ],
  "metadata": {
    "colab": {
      "provenance": []
    },
    "kernelspec": {
      "display_name": "Python 3",
      "name": "python3"
    },
    "language_info": {
      "name": "python"
    }
  },
  "nbformat": 4,
  "nbformat_minor": 0
}
